{
 "cells": [
  {
   "cell_type": "markdown",
   "metadata": {},
   "source": [
    "# Financial Planning with APIs and Simulations\n",
    "\n",
    "In this Challenge, you’ll create two financial analysis tools by using a single Jupyter notebook:\n",
    "\n",
    "Part 1: A financial planner for emergencies. The members will be able to use this tool to visualize their current savings. The members can then determine if they have enough reserves for an emergency fund.\n",
    "\n",
    "Part 2: A financial planner for retirement. This tool will forecast the performance of their retirement portfolio in 30 years. To do this, the tool will make an Alpaca API call via the Alpaca SDK to get historical price data for use in Monte Carlo simulations.\n",
    "\n",
    "You’ll use the information from the Monte Carlo simulation to answer questions about the portfolio in your Jupyter notebook.\n",
    "\n"
   ]
  },
  {
   "cell_type": "code",
   "execution_count": 1,
   "metadata": {},
   "outputs": [],
   "source": [
    "# Import the required libraries and dependencies\n",
    "import os\n",
    "import requests\n",
    "import json\n",
    "import pandas as pd\n",
    "from dotenv import load_dotenv\n",
    "import alpaca_trade_api as tradeapi\n",
    "from MCForecastTools import MCSimulation\n",
    "\n",
    "%matplotlib inline"
   ]
  },
  {
   "cell_type": "code",
   "execution_count": 2,
   "metadata": {},
   "outputs": [
    {
     "data": {
      "text/plain": [
       "True"
      ]
     },
     "execution_count": 2,
     "metadata": {},
     "output_type": "execute_result"
    }
   ],
   "source": [
    "# Load the environment variables from the .env file\n",
    "#by calling the load_dotenv function\n",
    "load_dotenv(\"main.env\")"
   ]
  },
  {
   "cell_type": "markdown",
   "metadata": {},
   "source": [
    "## Part 1: Create a Financial Planner for Emergencies"
   ]
  },
  {
   "cell_type": "markdown",
   "metadata": {},
   "source": [
    "### Evaluate the Cryptocurrency Wallet by Using the Requests Library\n",
    "\n",
    "In this section, you’ll determine the current value of a member’s cryptocurrency wallet. You’ll collect the current prices for the Bitcoin and Ethereum cryptocurrencies by using the Python Requests library. For the prototype, you’ll assume that the member holds the 1.2 Bitcoins (BTC) and 5.3 Ethereum coins (ETH). To do all this, complete the following steps:\n",
    "\n",
    "1. Create a variable named `monthly_income`, and set its value to `12000`.\n",
    "\n",
    "2. Use the Requests library to get the current price (in US dollars) of Bitcoin (BTC) and Ethereum (ETH) by using the API endpoints that the starter code supplies.\n",
    "\n",
    "3. Navigate the JSON response object to access the current price of each coin, and store each in a variable.\n",
    "\n",
    "    > **Hint** Note the specific identifier for each cryptocurrency in the API JSON response. The Bitcoin identifier is `1`, and the Ethereum identifier is `1027`.\n",
    "\n",
    "4. Calculate the value, in US dollars, of the current amount of each cryptocurrency and of the entire cryptocurrency wallet.\n",
    "\n"
   ]
  },
  {
   "cell_type": "code",
   "execution_count": 3,
   "metadata": {},
   "outputs": [],
   "source": [
    "# The current number of coins for each cryptocurrency asset held in the portfolio.\n",
    "btc_coins = 1.2\n",
    "eth_coins = 5.3"
   ]
  },
  {
   "cell_type": "markdown",
   "metadata": {},
   "source": [
    "#### Step 1: Create a variable named `monthly_income`, and set its value to `12000`."
   ]
  },
  {
   "cell_type": "code",
   "execution_count": 4,
   "metadata": {},
   "outputs": [],
   "source": [
    "# The monthly amount for the member's household income\n",
    "monthly_income= 12000\n"
   ]
  },
  {
   "cell_type": "markdown",
   "metadata": {},
   "source": [
    "#### Review the endpoint URLs for the API calls to Free Crypto API in order to get the current pricing information for both BTC and ETH."
   ]
  },
  {
   "cell_type": "code",
   "execution_count": 5,
   "metadata": {},
   "outputs": [],
   "source": [
    "# The Free Crypto API Call endpoint URLs for the held cryptocurrency assets\n",
    "btc_url = \"https://api.alternative.me/v2/ticker/Bitcoin/?convert=USD\"\n",
    "eth_url = \"https://api.alternative.me/v2/ticker/Ethereum/?convert=USD\""
   ]
  },
  {
   "cell_type": "markdown",
   "metadata": {},
   "source": [
    "#### Step 2. Use the Requests library to get the current price (in US dollars) of Bitcoin (BTC) and Ethereum (ETH) by using the API endpoints that the starter code supplied."
   ]
  },
  {
   "cell_type": "code",
   "execution_count": 6,
   "metadata": {},
   "outputs": [
    {
     "name": "stdout",
     "output_type": "stream",
     "text": [
      "{\n",
      "    \"data\": {\n",
      "        \"1\": {\n",
      "            \"circulating_supply\": 18850437,\n",
      "            \"id\": 1,\n",
      "            \"last_updated\": 1634861403,\n",
      "            \"max_supply\": 21000000,\n",
      "            \"name\": \"Bitcoin\",\n",
      "            \"quotes\": {\n",
      "                \"USD\": {\n",
      "                    \"market_cap\": 1178926819141,\n",
      "                    \"percent_change_1h\": 0.0480401689994854,\n",
      "                    \"percent_change_24h\": -5.26720599433243,\n",
      "                    \"percent_change_7d\": 8.97603572413311,\n",
      "                    \"percentage_change_1h\": 0.0480401689994854,\n",
      "                    \"percentage_change_24h\": -5.26720599433243,\n",
      "                    \"percentage_change_7d\": 8.97603572413311,\n",
      "                    \"price\": 62609.0,\n",
      "                    \"volume_24h\": 48632161873\n",
      "                }\n",
      "            },\n",
      "            \"rank\": 1,\n",
      "            \"symbol\": \"BTC\",\n",
      "            \"total_supply\": 18850437,\n",
      "            \"website_slug\": \"bitcoin\"\n",
      "        }\n",
      "    },\n",
      "    \"metadata\": {\n",
      "        \"error\": null,\n",
      "        \"num_cryptocurrencies\": 3105,\n",
      "        \"timestamp\": 1634861403\n",
      "    }\n",
      "}\n"
     ]
    }
   ],
   "source": [
    "# Using the Python requests library, make an API call to access the current price of BTC\n",
    "btc_response = requests.get(btc_url).json()\n",
    "\n",
    "# Use the json.dumps function to review the response data from the API call\n",
    "# Use the indent and sort_keys parameters to make the response object readable\n",
    "print(json.dumps(btc_response, indent=4, sort_keys=True))\n"
   ]
  },
  {
   "cell_type": "code",
   "execution_count": 7,
   "metadata": {},
   "outputs": [
    {
     "name": "stdout",
     "output_type": "stream",
     "text": [
      "{\n",
      "    \"data\": {\n",
      "        \"1027\": {\n",
      "            \"circulating_supply\": 118023400,\n",
      "            \"id\": 1027,\n",
      "            \"last_updated\": 1634861301,\n",
      "            \"max_supply\": 0,\n",
      "            \"name\": \"Ethereum\",\n",
      "            \"quotes\": {\n",
      "                \"USD\": {\n",
      "                    \"market_cap\": 480184884248,\n",
      "                    \"percent_change_1h\": 0.247691355810403,\n",
      "                    \"percent_change_24h\": -1.80654180622585,\n",
      "                    \"percent_change_7d\": 7.72485334609432,\n",
      "                    \"percentage_change_1h\": 0.247691355810403,\n",
      "                    \"percentage_change_24h\": -1.80654180622585,\n",
      "                    \"percentage_change_7d\": 7.72485334609432,\n",
      "                    \"price\": 4087.64,\n",
      "                    \"volume_24h\": 50139145605\n",
      "                }\n",
      "            },\n",
      "            \"rank\": 2,\n",
      "            \"symbol\": \"ETH\",\n",
      "            \"total_supply\": 118023400,\n",
      "            \"website_slug\": \"ethereum\"\n",
      "        }\n",
      "    },\n",
      "    \"metadata\": {\n",
      "        \"error\": null,\n",
      "        \"num_cryptocurrencies\": 3105,\n",
      "        \"timestamp\": 1634861301\n",
      "    }\n",
      "}\n"
     ]
    }
   ],
   "source": [
    "# Using the Python requests library, make an API call to access the current price ETH\n",
    "eth_response = requests.get(eth_url).json()\n",
    "\n",
    "# Use the json.dumps function to review the response data from the API call\n",
    "# Use the indent and sort_keys parameters to make the response object readable\n",
    "print(json.dumps(eth_response, indent=4, sort_keys=True))\n"
   ]
  },
  {
   "cell_type": "markdown",
   "metadata": {},
   "source": [
    "#### Step 3: Navigate the JSON response object to access the current price of each coin, and store each in a variable."
   ]
  },
  {
   "cell_type": "code",
   "execution_count": 8,
   "metadata": {},
   "outputs": [
    {
     "name": "stdout",
     "output_type": "stream",
     "text": [
      "The price for BTC is $62609.0\n"
     ]
    }
   ],
   "source": [
    "# Navigate the BTC response object to access the current price of BTC\n",
    "btc_price = btc_response['data']['1']['quotes']['USD']['price']\n",
    "\n",
    "# Print the current price of BTC\n",
    "print(f\"The price for BTC is ${btc_price}\")\n"
   ]
  },
  {
   "cell_type": "code",
   "execution_count": 9,
   "metadata": {},
   "outputs": [
    {
     "name": "stdout",
     "output_type": "stream",
     "text": [
      "The price for ETH is $4087.64\n"
     ]
    }
   ],
   "source": [
    "# Navigate the BTC response object to access the current price of ETH\n",
    "eth_price = eth_response['data']['1027']['quotes']['USD']['price']\n",
    "\n",
    "# Print the current price of ETH\n",
    "print(f\"The price for ETH is ${eth_price}\")\n"
   ]
  },
  {
   "cell_type": "markdown",
   "metadata": {},
   "source": [
    "### Step 4: Calculate the value, in US dollars, of the current amount of each cryptocurrency and of the entire cryptocurrency wallet."
   ]
  },
  {
   "cell_type": "code",
   "execution_count": 10,
   "metadata": {},
   "outputs": [
    {
     "name": "stdout",
     "output_type": "stream",
     "text": [
      "The value for ETH is $75130.8\n"
     ]
    }
   ],
   "source": [
    "# Compute the current value of the BTC holding \n",
    "btc_value = btc_coins * btc_price\n",
    "\n",
    "# Print current value of your holding in BTC\n",
    "print(f\"The value for ETH is ${btc_value}\")\n"
   ]
  },
  {
   "cell_type": "code",
   "execution_count": 11,
   "metadata": {},
   "outputs": [
    {
     "name": "stdout",
     "output_type": "stream",
     "text": [
      "The value for ETH is $21664.492\n"
     ]
    }
   ],
   "source": [
    "# Compute the current value of the ETH holding \n",
    "eth_value = eth_coins * eth_price\n",
    "\n",
    "# Print current value of your holding in ETH\n",
    "print(f\"The value for ETH is ${eth_value}\")\n"
   ]
  },
  {
   "cell_type": "code",
   "execution_count": 12,
   "metadata": {},
   "outputs": [
    {
     "name": "stdout",
     "output_type": "stream",
     "text": [
      "The total price for ETH and BTC is $96795.29\n"
     ]
    }
   ],
   "source": [
    "# Compute the total value of the cryptocurrency wallet\n",
    "# Add the value of the BTC holding to the value of the ETH holding\n",
    "total_crypto_wallet = eth_value + btc_value\n",
    "\n",
    "# Print current cryptocurrency wallet balance\n",
    "print(f\"The total price for ETH and BTC is ${round(total_crypto_wallet,2)}\")\n"
   ]
  },
  {
   "cell_type": "markdown",
   "metadata": {},
   "source": [
    "### Evaluate the Stock and Bond Holdings by Using the Alpaca SDK\n",
    "\n",
    "In this section, you’ll determine the current value of a member’s stock and bond holdings. You’ll make an API call to Alpaca via the Alpaca SDK to get the current closing prices of the SPDR S&P 500 ETF Trust (ticker: SPY) and of the iShares Core US Aggregate Bond ETF (ticker: AGG). For the prototype, assume that the member holds 110 shares of SPY, which represents the stock portion of their portfolio, and 200 shares of AGG, which represents the bond portion. To do all this, complete the following steps:\n",
    "\n",
    "1. In the `Starter_Code` folder, create an environment file (`.env`) to store the values of your Alpaca API key and Alpaca secret key.\n",
    "\n",
    "2. Set the variables for the Alpaca API and secret keys. Using the Alpaca SDK, create the Alpaca `tradeapi.REST` object. In this object, include the parameters for the Alpaca API key, the secret key, and the version number.\n",
    "\n",
    "3. Set the following parameters for the Alpaca API call:\n",
    "\n",
    "    - `tickers`: Use the tickers for the member’s stock and bond holdings.\n",
    "\n",
    "    - `timeframe`: Use a time frame of one day.\n",
    "\n",
    "    - `start_date` and `end_date`: Use the same date for these parameters, and format them with the date of the previous weekday (or `2020-08-07`). This is because you want the one closing price for the most-recent trading day.\n",
    "\n",
    "4. Get the current closing prices for `SPY` and `AGG` by using the Alpaca `get_barset` function. Format the response as a Pandas DataFrame by including the `df` property at the end of the `get_barset` function.\n",
    "\n",
    "5. Navigating the Alpaca response DataFrame, select the `SPY` and `AGG` closing prices, and store them as variables.\n",
    "\n",
    "6. Calculate the value, in US dollars, of the current amount of shares in each of the stock and bond portions of the portfolio, and print the results.\n"
   ]
  },
  {
   "cell_type": "markdown",
   "metadata": {},
   "source": [
    "#### Review the total number of shares held in both (SPY) and (AGG)."
   ]
  },
  {
   "cell_type": "code",
   "execution_count": 13,
   "metadata": {},
   "outputs": [],
   "source": [
    "# Current amount of shares held in both the stock (SPY) and bond (AGG) portion of the portfolio.\n",
    "spy_shares = 110\n",
    "agg_shares = 200\n"
   ]
  },
  {
   "cell_type": "markdown",
   "metadata": {},
   "source": [
    "#### Step 1: In the `Starter_Code` folder, create an environment file (`.env`) to store the values of your Alpaca API key and Alpaca secret key."
   ]
  },
  {
   "cell_type": "markdown",
   "metadata": {},
   "source": [
    "#### Step 2: Set the variables for the Alpaca API and secret keys. Using the Alpaca SDK, create the Alpaca `tradeapi.REST` object. In this object, include the parameters for the Alpaca API key, the secret key, and the version number."
   ]
  },
  {
   "cell_type": "code",
   "execution_count": 14,
   "metadata": {},
   "outputs": [
    {
     "name": "stdout",
     "output_type": "stream",
     "text": [
      "<class 'str'>\n",
      "<class 'str'>\n"
     ]
    }
   ],
   "source": [
    "# Set the variables for the Alpaca API and secret keys\n",
    "alpaca_api_key = os.getenv(\"ALPACA_API_KEY\")\n",
    "alpaca_secret_key = os.getenv(\"ALPACA_SECRET_KEY\")\n",
    "print(type(alpaca_api_key))\n",
    "print(type(alpaca_secret_key))\n",
    "# Create the Alpaca tradeapi.REST object\n",
    "alpaca = tradeapi.REST(\n",
    "    alpaca_api_key,\n",
    "    alpaca_secret_key,\n",
    "    api_version=\"v2\")\n"
   ]
  },
  {
   "cell_type": "markdown",
   "metadata": {},
   "source": [
    "#### Step 3: Set the following parameters for the Alpaca API call:\n",
    "\n",
    "- `tickers`: Use the tickers for the member’s stock and bond holdings.\n",
    "\n",
    "- `timeframe`: Use a time frame of one day.\n",
    "\n",
    "- `start_date` and `end_date`: Use the same date for these parameters, and format them with the date of the previous weekday (or `2020-08-07`). This is because you want the one closing price for the most-recent trading day.\n"
   ]
  },
  {
   "cell_type": "code",
   "execution_count": 15,
   "metadata": {},
   "outputs": [],
   "source": [
    "# Set the tickers for both the bond and stock portion of the portfolio\n",
    "tickers=[\"SPY\", \"AGG\"]\n",
    "\n",
    "# Set timeframe to 1D \n",
    "timeframe= \"1D\"\n",
    "\n",
    "# Format current date as ISO format\n",
    "# Set both the start and end date at the date of your prior weekday \n",
    "# This will give you the closing price of the previous trading day\n",
    "# Alternatively you can use a start and end date of 2020-08-07\n",
    "start_date = pd.Timestamp(\"2020-08-07\", tz=\"America/New_York\").isoformat()\n",
    "end_date = pd.Timestamp(\"2020-08-07\", tz=\"America/New_York\").isoformat()\n"
   ]
  },
  {
   "cell_type": "markdown",
   "metadata": {},
   "source": [
    "#### Step 4: Get the current closing prices for `SPY` and `AGG` by using the Alpaca `get_barset` function. Format the response as a Pandas DataFrame by including the `df` property at the end of the `get_barset` function."
   ]
  },
  {
   "cell_type": "code",
   "execution_count": 16,
   "metadata": {},
   "outputs": [
    {
     "data": {
      "text/html": [
       "<div>\n",
       "<style scoped>\n",
       "    .dataframe tbody tr th:only-of-type {\n",
       "        vertical-align: middle;\n",
       "    }\n",
       "\n",
       "    .dataframe tbody tr th {\n",
       "        vertical-align: top;\n",
       "    }\n",
       "\n",
       "    .dataframe thead tr th {\n",
       "        text-align: left;\n",
       "    }\n",
       "\n",
       "    .dataframe thead tr:last-of-type th {\n",
       "        text-align: right;\n",
       "    }\n",
       "</style>\n",
       "<table border=\"1\" class=\"dataframe\">\n",
       "  <thead>\n",
       "    <tr>\n",
       "      <th></th>\n",
       "      <th colspan=\"5\" halign=\"left\">AGG</th>\n",
       "      <th colspan=\"5\" halign=\"left\">SPY</th>\n",
       "    </tr>\n",
       "    <tr>\n",
       "      <th></th>\n",
       "      <th>open</th>\n",
       "      <th>high</th>\n",
       "      <th>low</th>\n",
       "      <th>close</th>\n",
       "      <th>volume</th>\n",
       "      <th>open</th>\n",
       "      <th>high</th>\n",
       "      <th>low</th>\n",
       "      <th>close</th>\n",
       "      <th>volume</th>\n",
       "    </tr>\n",
       "    <tr>\n",
       "      <th>time</th>\n",
       "      <th></th>\n",
       "      <th></th>\n",
       "      <th></th>\n",
       "      <th></th>\n",
       "      <th></th>\n",
       "      <th></th>\n",
       "      <th></th>\n",
       "      <th></th>\n",
       "      <th></th>\n",
       "      <th></th>\n",
       "    </tr>\n",
       "  </thead>\n",
       "  <tbody>\n",
       "    <tr>\n",
       "      <th>2020-08-07 00:00:00-04:00</th>\n",
       "      <td>119.66</td>\n",
       "      <td>119.73</td>\n",
       "      <td>119.395</td>\n",
       "      <td>119.445</td>\n",
       "      <td>8830420</td>\n",
       "      <td>333.28</td>\n",
       "      <td>334.88</td>\n",
       "      <td>332.3</td>\n",
       "      <td>334.55</td>\n",
       "      <td>98710236</td>\n",
       "    </tr>\n",
       "  </tbody>\n",
       "</table>\n",
       "</div>"
      ],
      "text/plain": [
       "                              AGG                                        SPY  \\\n",
       "                             open    high      low    close   volume    open   \n",
       "time                                                                           \n",
       "2020-08-07 00:00:00-04:00  119.66  119.73  119.395  119.445  8830420  333.28   \n",
       "\n",
       "                                                            \n",
       "                             high    low   close    volume  \n",
       "time                                                        \n",
       "2020-08-07 00:00:00-04:00  334.88  332.3  334.55  98710236  "
      ]
     },
     "execution_count": 16,
     "metadata": {},
     "output_type": "execute_result"
    }
   ],
   "source": [
    "# Use the Alpaca get_barset function to get current closing prices the portfolio\n",
    "# Be sure to set the `df` property after the function to format the response object as a DataFrame\n",
    "closing_prices= alpaca.get_barset(\n",
    "    tickers,\n",
    "    timeframe,\n",
    "    start = start_date,\n",
    "    end = end_date\n",
    ").df\n",
    "\n",
    "# Review the first 5 rows of the Alpaca DataFrame\n",
    "closing_prices.head()\n"
   ]
  },
  {
   "cell_type": "markdown",
   "metadata": {},
   "source": [
    "#### Step 5: Navigating the Alpaca response DataFrame, select the `SPY` and `AGG` closing prices, and store them as variables."
   ]
  },
  {
   "cell_type": "code",
   "execution_count": 17,
   "metadata": {},
   "outputs": [
    {
     "data": {
      "text/plain": [
       "119.445"
      ]
     },
     "execution_count": 17,
     "metadata": {},
     "output_type": "execute_result"
    }
   ],
   "source": [
    "# Access the closing price for AGG from the Alpaca DataFrame\n",
    "# Converting the value to a floating point number\n",
    "\n",
    "agg_close_price= closing_prices.iloc[0,3]\n",
    "\n",
    "# Print the AGG closing price\n",
    "agg_close_price\n"
   ]
  },
  {
   "cell_type": "code",
   "execution_count": 18,
   "metadata": {},
   "outputs": [
    {
     "data": {
      "text/plain": [
       "334.55"
      ]
     },
     "execution_count": 18,
     "metadata": {},
     "output_type": "execute_result"
    }
   ],
   "source": [
    "# Access the closing price for SPY from the Alpaca DataFrame\n",
    "# Converting the value to a floating point number\n",
    "\n",
    "spy_close_price = closing_prices.iloc[0,8]\n",
    "\n",
    "# Print the SPY closing price\n",
    "spy_close_price\n"
   ]
  },
  {
   "cell_type": "markdown",
   "metadata": {},
   "source": [
    "#### Step 6: Calculate the value, in US dollars, of the current amount of shares in each of the stock and bond portions of the portfolio, and print the results."
   ]
  },
  {
   "cell_type": "code",
   "execution_count": 19,
   "metadata": {},
   "outputs": [
    {
     "name": "stdout",
     "output_type": "stream",
     "text": [
      "The value for bonds in this portfolio is $23889.0\n"
     ]
    }
   ],
   "source": [
    "# Calculate the current value of the bond portion of the portfolio\n",
    "agg_value = agg_shares *agg_close_price\n",
    "\n",
    "# Print the current value of the bond portfolio\n",
    "\n",
    "print(f\"The value for bonds in this portfolio is ${agg_value}\")\n"
   ]
  },
  {
   "cell_type": "code",
   "execution_count": 20,
   "metadata": {},
   "outputs": [
    {
     "name": "stdout",
     "output_type": "stream",
     "text": [
      "The value for stocks in this portfolio is $36800.5\n"
     ]
    }
   ],
   "source": [
    "# Calculate the current value of the stock portion of the portfolio\n",
    "spy_value = spy_shares *spy_close_price\n",
    "\n",
    "# Print the current value of the stock portfolio\n",
    "print(f\"The value for stocks in this portfolio is ${round(spy_value,2)}\")\n"
   ]
  },
  {
   "cell_type": "code",
   "execution_count": 21,
   "metadata": {},
   "outputs": [
    {
     "name": "stdout",
     "output_type": "stream",
     "text": [
      "The value for stocks and bonds in this portfolio is $60689.5\n"
     ]
    }
   ],
   "source": [
    "# Calculate the total value of the stock and bond portion of the portfolio\n",
    "total_stocks_bonds = spy_value+agg_value\n",
    "\n",
    "# Print the current balance of the stock and bond portion of the portfolio\n",
    "print(f\"The value for stocks and bonds in this portfolio is ${total_stocks_bonds}\")\n"
   ]
  },
  {
   "cell_type": "code",
   "execution_count": 22,
   "metadata": {},
   "outputs": [
    {
     "name": "stdout",
     "output_type": "stream",
     "text": [
      "Total value of portfolio with crypto, bonds and stocks is $157484.79\n"
     ]
    }
   ],
   "source": [
    "# Calculate the total value of the member's entire savings portfolio\n",
    "# Add the value of the cryptocurrency walled to the value of the total stocks and bonds\n",
    "total_portfolio = total_stocks_bonds+ total_crypto_wallet\n",
    "\n",
    "# Print current cryptocurrency wallet balance\n",
    "print(f\"Total value of portfolio with crypto, bonds and stocks is ${round(total_portfolio,2)}\")\n"
   ]
  },
  {
   "cell_type": "markdown",
   "metadata": {},
   "source": [
    "### Evaluate the Emergency Fund\n",
    "\n",
    "In this section, you’ll use the valuations for the cryptocurrency wallet and for the stock and bond portions of the portfolio to determine if the credit union member has enough savings to build an emergency fund into their financial plan. To do this, complete the following steps:\n",
    "\n",
    "1. Create a Python list named `savings_data` that has two elements. The first element contains the total value of the cryptocurrency wallet. The second element contains the total value of the stock and bond portions of the portfolio.\n",
    "\n",
    "2. Use the `savings_data` list to create a Pandas DataFrame named `savings_df`, and then display this DataFrame. The function to create the DataFrame should take the following three parameters:\n",
    "\n",
    "    - `savings_data`: Use the list that you just created.\n",
    "\n",
    "    - `columns`: Set this parameter equal to a Python list with a single value called `amount`.\n",
    "\n",
    "    - `index`: Set this parameter equal to a Python list with the values of `crypto` and `stock/bond`.\n",
    "\n",
    "3. Use the `savings_df` DataFrame to plot a pie chart that visualizes the composition of the member’s portfolio. The y-axis of the pie chart uses `amount`. Be sure to add a title.\n",
    "\n",
    "4. Using Python, determine if the current portfolio has enough to create an emergency fund as part of the member’s financial plan. Ideally, an emergency fund should equal to three times the member’s monthly income. To do this, implement the following steps:\n",
    "\n",
    "    1. Create a variable named `emergency_fund_value`, and set it equal to three times the value of the member’s `monthly_income` of $12000. (You set this earlier in Part 1).\n",
    "\n",
    "    2. Create a series of three if statements to determine if the member’s total portfolio is large enough to fund the emergency portfolio:\n",
    "\n",
    "        1. If the total portfolio value is greater than the emergency fund value, display a message congratulating the member for having enough money in this fund.\n",
    "\n",
    "        2. Else if the total portfolio value is equal to the emergency fund value, display a message congratulating the member on reaching this important financial goal.\n",
    "\n",
    "        3. Else the total portfolio is less than the emergency fund value, so display a message showing how many dollars away the member is from reaching the goal. (Subtract the total portfolio value from the emergency fund value.)\n"
   ]
  },
  {
   "cell_type": "markdown",
   "metadata": {},
   "source": [
    "#### Step 1: Create a Python list named `savings_data` that has two elements. The first element contains the total value of the cryptocurrency wallet. The second element contains the total value of the stock and bond portions of the portfolio."
   ]
  },
  {
   "cell_type": "code",
   "execution_count": 23,
   "metadata": {},
   "outputs": [
    {
     "name": "stdout",
     "output_type": "stream",
     "text": [
      "[60689.5, 96795.292]\n"
     ]
    }
   ],
   "source": [
    "# Consolidate financial assets data into a Python list\n",
    "savings_data=[total_stocks_bonds, total_crypto_wallet]\n",
    "\n",
    "# Review the Python list savings_data\n",
    "print(savings_data)\n",
    "    "
   ]
  },
  {
   "cell_type": "markdown",
   "metadata": {},
   "source": [
    "#### Step 2: Use the `savings_data` list to create a Pandas DataFrame named `savings_df`, and then display this DataFrame. The function to create the DataFrame should take the following three parameters:\n",
    "\n",
    "- `savings_data`: Use the list that you just created.\n",
    "\n",
    "- `columns`: Set this parameter equal to a Python list with a single value called `amount`.\n",
    "\n",
    "- `index`: Set this parameter equal to a Python list with the values of `crypto` and `stock/bond`.\n"
   ]
  },
  {
   "cell_type": "code",
   "execution_count": 24,
   "metadata": {},
   "outputs": [
    {
     "data": {
      "text/html": [
       "<div>\n",
       "<style scoped>\n",
       "    .dataframe tbody tr th:only-of-type {\n",
       "        vertical-align: middle;\n",
       "    }\n",
       "\n",
       "    .dataframe tbody tr th {\n",
       "        vertical-align: top;\n",
       "    }\n",
       "\n",
       "    .dataframe thead th {\n",
       "        text-align: right;\n",
       "    }\n",
       "</style>\n",
       "<table border=\"1\" class=\"dataframe\">\n",
       "  <thead>\n",
       "    <tr style=\"text-align: right;\">\n",
       "      <th></th>\n",
       "      <th>Amount</th>\n",
       "    </tr>\n",
       "  </thead>\n",
       "  <tbody>\n",
       "    <tr>\n",
       "      <th>BTC</th>\n",
       "      <td>75130.800</td>\n",
       "    </tr>\n",
       "    <tr>\n",
       "      <th>ETH</th>\n",
       "      <td>21664.492</td>\n",
       "    </tr>\n",
       "    <tr>\n",
       "      <th>SPY</th>\n",
       "      <td>36800.500</td>\n",
       "    </tr>\n",
       "    <tr>\n",
       "      <th>AGG</th>\n",
       "      <td>23889.000</td>\n",
       "    </tr>\n",
       "  </tbody>\n",
       "</table>\n",
       "</div>"
      ],
      "text/plain": [
       "        Amount\n",
       "BTC  75130.800\n",
       "ETH  21664.492\n",
       "SPY  36800.500\n",
       "AGG  23889.000"
      ]
     },
     "execution_count": 24,
     "metadata": {},
     "output_type": "execute_result"
    }
   ],
   "source": [
    "# Create a Pandas DataFrame called savings_df \n",
    "savings_df = pd.DataFrame(\n",
    "    {'Amount':[btc_value, eth_value, spy_value, agg_value]},\n",
    "    index=['BTC', 'ETH', 'SPY', 'AGG']\n",
    ")\n",
    "# Display the savings_df DataFrame\n",
    "savings_df\n"
   ]
  },
  {
   "cell_type": "markdown",
   "metadata": {},
   "source": [
    "#### Step 3: Use the `savings_df` DataFrame to plot a pie chart that visualizes the composition of the member’s portfolio. The y-axis of the pie chart uses `amount`. Be sure to add a title."
   ]
  },
  {
   "cell_type": "code",
   "execution_count": 25,
   "metadata": {},
   "outputs": [
    {
     "data": {
      "text/plain": [
       "<AxesSubplot:title={'center':'The composition of the member’s portfolio'}, ylabel='Amount'>"
      ]
     },
     "execution_count": 25,
     "metadata": {},
     "output_type": "execute_result"
    },
    {
     "data": {
      "image/png": "[encoded data removed]",
      "text/plain": [
       "<Figure size 432x288 with 1 Axes>"
      ]
     },
     "metadata": {},
     "output_type": "display_data"
    }
   ],
   "source": [
    "# Plot the total value of the member's portfolio (crypto and stock/bond) in a pie chart\n",
    "savings_df.plot.pie(y='Amount', title=\"The composition of the member’s portfolio\")\n"
   ]
  },
  {
   "cell_type": "markdown",
   "metadata": {},
   "source": [
    "#### Step 4: Using Python, determine if the current portfolio has enough to create an emergency fund as part of the member’s financial plan. Ideally, an emergency fund should equal to three times the member’s monthly income. To do this, implement the following steps:\n",
    "\n",
    "Step 1. Create a variable named `emergency_fund_value`, and set it equal to three times the value of the member’s `monthly_income` of 12000. (You set this earlier in Part 1).\n",
    "\n",
    "Step 2. Create a series of three if statements to determine if the member’s total portfolio is large enough to fund the emergency portfolio:\n",
    "\n",
    "* If the total portfolio value is greater than the emergency fund value, display a message congratulating the member for having enough money in this fund.\n",
    "\n",
    "* Else if the total portfolio value is equal to the emergency fund value, display a message congratulating the member on reaching this important financial goal.\n",
    "\n",
    "* Else the total portfolio is less than the emergency fund value, so display a message showing how many dollars away the member is from reaching the goal. (Subtract the total portfolio value from the emergency fund value.)\n"
   ]
  },
  {
   "cell_type": "markdown",
   "metadata": {},
   "source": [
    "##### Step 4-1: Create a variable named `emergency_fund_value`, and set it equal to three times the value of the member’s `monthly_income` of 12000. (You set this earlier in Part 1)."
   ]
  },
  {
   "cell_type": "code",
   "execution_count": 26,
   "metadata": {},
   "outputs": [],
   "source": [
    "# Create a variable named emergency_fund_value\n",
    "emergency_fund_value=monthly_income * 3\n"
   ]
  },
  {
   "cell_type": "markdown",
   "metadata": {},
   "source": [
    "##### Step 4-2: Create a series of three if statements to determine if the member’s total portfolio is large enough to fund the emergency portfolio:\n",
    "\n",
    "* If the total portfolio value is greater than the emergency fund value, display a message congratulating the member for having enough money in this fund.\n",
    "\n",
    "* Else if the total portfolio value is equal to the emergency fund value, display a message congratulating the member on reaching this important financial goal.\n",
    "\n",
    "* Else the total portfolio is less than the emergency fund value, so display a message showing how many dollars away the member is from reaching the goal. (Subtract the total portfolio value from the emergency fund value.)"
   ]
  },
  {
   "cell_type": "code",
   "execution_count": 27,
   "metadata": {},
   "outputs": [
    {
     "name": "stdout",
     "output_type": "stream",
     "text": [
      "Congratulation the member for having enough money in this fund.\n"
     ]
    }
   ],
   "source": [
    "# Evaluate the possibility of creating an emergency fund with 3 conditions:\n",
    "if total_portfolio>emergency_fund_value:\n",
    "    print(\"Congratulation the member for having enough money in this fund.\")\n",
    "elif total_portfolio==emergency_funds_value:\n",
    "    print(\"Congratulation the member on reaching this important financial goal.\")\n",
    "else:\n",
    "    print(f\"You are ${(total_portfolio-emergency_funds_value)} from achieinvg your goal.\")"
   ]
  },
  {
   "cell_type": "markdown",
   "metadata": {},
   "source": [
    "## Part 2: Create a Financial Planner for Retirement"
   ]
  },
  {
   "cell_type": "markdown",
   "metadata": {},
   "source": [
    "### Create the Monte Carlo Simulation\n",
    "\n",
    "In this section, you’ll use the MCForecastTools library to create a Monte Carlo simulation for the member’s savings portfolio. To do this, complete the following steps:\n",
    "\n",
    "1. Make an API call via the Alpaca SDK to get 3 years of historical closing prices for a traditional 60/40 portfolio split: 60% stocks (SPY) and 40% bonds (AGG).\n",
    "\n",
    "2. Run a Monte Carlo simulation of 500 samples and 30 years for the 60/40 portfolio, and then plot the results.The following image shows the overlay line plot resulting from a simulation with these characteristics. However, because a random number generator is used to run each live Monte Carlo simulation, your image will differ slightly from this exact image:\n",
    "\n",
    "![A screenshot depicts the resulting plot.](Images/5-4-monte-carlo-line-plot.png)\n",
    "\n",
    "3. Plot the probability distribution of the Monte Carlo simulation. Plot the probability distribution of the Monte Carlo simulation. The following image shows the histogram plot resulting from a simulation with these characteristics. However, because a random number generator is used to run each live Monte Carlo simulation, your image will differ slightly from this exact image:\n",
    "\n",
    "![A screenshot depicts the histogram plot.](Images/5-4-monte-carlo-histogram.png)\n",
    "\n",
    "4. Generate the summary statistics for the Monte Carlo simulation.\n",
    "\n"
   ]
  },
  {
   "cell_type": "markdown",
   "metadata": {},
   "source": [
    "#### Step 1: Make an API call via the Alpaca SDK to get 3 years of historical closing prices for a traditional 60/40 portfolio split: 60% stocks (SPY) and 40% bonds (AGG)."
   ]
  },
  {
   "cell_type": "code",
   "execution_count": 28,
   "metadata": {},
   "outputs": [],
   "source": [
    "# Set start and end dates of 3 years back from your current date\n",
    "# Alternatively, you can use an end date of 2020-08-07 and work 3 years back from that date \n",
    "start_date = pd.Timestamp(\"2017-08-07\", tz=\"America/New_York\").isoformat()\n",
    "end_date = pd.Timestamp(\"2020-08-07\", tz=\"America/New_York\").isoformat()\n",
    "\n",
    "# Set number of rows to 1000 to retrieve the maximum amount of rows\n",
    "limit_rows = 1000"
   ]
  },
  {
   "cell_type": "code",
   "execution_count": 29,
   "metadata": {},
   "outputs": [
    {
     "data": {
      "text/html": [
       "<div>\n",
       "<style scoped>\n",
       "    .dataframe tbody tr th:only-of-type {\n",
       "        vertical-align: middle;\n",
       "    }\n",
       "\n",
       "    .dataframe tbody tr th {\n",
       "        vertical-align: top;\n",
       "    }\n",
       "\n",
       "    .dataframe thead tr th {\n",
       "        text-align: left;\n",
       "    }\n",
       "\n",
       "    .dataframe thead tr:last-of-type th {\n",
       "        text-align: right;\n",
       "    }\n",
       "</style>\n",
       "<table border=\"1\" class=\"dataframe\">\n",
       "  <thead>\n",
       "    <tr>\n",
       "      <th></th>\n",
       "      <th colspan=\"5\" halign=\"left\">AGG</th>\n",
       "      <th colspan=\"5\" halign=\"left\">SPY</th>\n",
       "    </tr>\n",
       "    <tr>\n",
       "      <th></th>\n",
       "      <th>open</th>\n",
       "      <th>high</th>\n",
       "      <th>low</th>\n",
       "      <th>close</th>\n",
       "      <th>volume</th>\n",
       "      <th>open</th>\n",
       "      <th>high</th>\n",
       "      <th>low</th>\n",
       "      <th>close</th>\n",
       "      <th>volume</th>\n",
       "    </tr>\n",
       "    <tr>\n",
       "      <th>time</th>\n",
       "      <th></th>\n",
       "      <th></th>\n",
       "      <th></th>\n",
       "      <th></th>\n",
       "      <th></th>\n",
       "      <th></th>\n",
       "      <th></th>\n",
       "      <th></th>\n",
       "      <th></th>\n",
       "      <th></th>\n",
       "    </tr>\n",
       "  </thead>\n",
       "  <tbody>\n",
       "    <tr>\n",
       "      <th>2020-08-03 00:00:00-04:00</th>\n",
       "      <td>119.37</td>\n",
       "      <td>119.40</td>\n",
       "      <td>119.1903</td>\n",
       "      <td>119.400</td>\n",
       "      <td>17837420</td>\n",
       "      <td>328.3200</td>\n",
       "      <td>329.62</td>\n",
       "      <td>327.73</td>\n",
       "      <td>328.76</td>\n",
       "      <td>71741125</td>\n",
       "    </tr>\n",
       "    <tr>\n",
       "      <th>2020-08-04 00:00:00-04:00</th>\n",
       "      <td>119.42</td>\n",
       "      <td>119.63</td>\n",
       "      <td>119.4200</td>\n",
       "      <td>119.630</td>\n",
       "      <td>21512268</td>\n",
       "      <td>327.8600</td>\n",
       "      <td>330.06</td>\n",
       "      <td>327.86</td>\n",
       "      <td>330.03</td>\n",
       "      <td>73684427</td>\n",
       "    </tr>\n",
       "    <tr>\n",
       "      <th>2020-08-05 00:00:00-04:00</th>\n",
       "      <td>119.39</td>\n",
       "      <td>119.49</td>\n",
       "      <td>119.3100</td>\n",
       "      <td>119.400</td>\n",
       "      <td>34175883</td>\n",
       "      <td>331.4700</td>\n",
       "      <td>332.39</td>\n",
       "      <td>331.18</td>\n",
       "      <td>332.06</td>\n",
       "      <td>72846458</td>\n",
       "    </tr>\n",
       "    <tr>\n",
       "      <th>2020-08-06 00:00:00-04:00</th>\n",
       "      <td>119.62</td>\n",
       "      <td>119.73</td>\n",
       "      <td>119.5300</td>\n",
       "      <td>119.580</td>\n",
       "      <td>9009216</td>\n",
       "      <td>331.4799</td>\n",
       "      <td>334.46</td>\n",
       "      <td>331.13</td>\n",
       "      <td>334.31</td>\n",
       "      <td>76900649</td>\n",
       "    </tr>\n",
       "    <tr>\n",
       "      <th>2020-08-07 00:00:00-04:00</th>\n",
       "      <td>119.66</td>\n",
       "      <td>119.73</td>\n",
       "      <td>119.3950</td>\n",
       "      <td>119.445</td>\n",
       "      <td>8830420</td>\n",
       "      <td>333.2800</td>\n",
       "      <td>334.88</td>\n",
       "      <td>332.30</td>\n",
       "      <td>334.55</td>\n",
       "      <td>98710236</td>\n",
       "    </tr>\n",
       "  </tbody>\n",
       "</table>\n",
       "</div>"
      ],
      "text/plain": [
       "                              AGG                                       \\\n",
       "                             open    high       low    close    volume   \n",
       "time                                                                     \n",
       "2020-08-03 00:00:00-04:00  119.37  119.40  119.1903  119.400  17837420   \n",
       "2020-08-04 00:00:00-04:00  119.42  119.63  119.4200  119.630  21512268   \n",
       "2020-08-05 00:00:00-04:00  119.39  119.49  119.3100  119.400  34175883   \n",
       "2020-08-06 00:00:00-04:00  119.62  119.73  119.5300  119.580   9009216   \n",
       "2020-08-07 00:00:00-04:00  119.66  119.73  119.3950  119.445   8830420   \n",
       "\n",
       "                                SPY                                    \n",
       "                               open    high     low   close    volume  \n",
       "time                                                                   \n",
       "2020-08-03 00:00:00-04:00  328.3200  329.62  327.73  328.76  71741125  \n",
       "2020-08-04 00:00:00-04:00  327.8600  330.06  327.86  330.03  73684427  \n",
       "2020-08-05 00:00:00-04:00  331.4700  332.39  331.18  332.06  72846458  \n",
       "2020-08-06 00:00:00-04:00  331.4799  334.46  331.13  334.31  76900649  \n",
       "2020-08-07 00:00:00-04:00  333.2800  334.88  332.30  334.55  98710236  "
      ]
     },
     "execution_count": 29,
     "metadata": {},
     "output_type": "execute_result"
    }
   ],
   "source": [
    "# Use the Alpaca get_barset function to make the API call to get the 3 years worth of pricing data\n",
    "# The tickers and timeframe parameters should have been set in Part 1 of this activity \n",
    "# The start and end dates should be updated with the information set above\n",
    "# Remember to add the df property to the end of the call so the response is returned as a DataFrame\n",
    "prices_df = alpaca.get_barset(\n",
    "    tickers,\n",
    "    timeframe,\n",
    "    start=start_date,\n",
    "    end=end_date,\n",
    "    ).df\n",
    "\n",
    "\n",
    "# Display both the first and last five rows of the DataFrame\n",
    "prices_df.head() \n",
    "prices_df.tail()\n"
   ]
  },
  {
   "cell_type": "markdown",
   "metadata": {},
   "source": [
    "#### Step 2: Run a Monte Carlo simulation of 500 samples and 30 years for the 60/40 portfolio, and then plot the results."
   ]
  },
  {
   "cell_type": "code",
   "execution_count": 30,
   "metadata": {},
   "outputs": [
    {
     "data": {
      "text/html": [
       "<div>\n",
       "<style scoped>\n",
       "    .dataframe tbody tr th:only-of-type {\n",
       "        vertical-align: middle;\n",
       "    }\n",
       "\n",
       "    .dataframe tbody tr th {\n",
       "        vertical-align: top;\n",
       "    }\n",
       "\n",
       "    .dataframe thead tr th {\n",
       "        text-align: left;\n",
       "    }\n",
       "\n",
       "    .dataframe thead tr:last-of-type th {\n",
       "        text-align: right;\n",
       "    }\n",
       "</style>\n",
       "<table border=\"1\" class=\"dataframe\">\n",
       "  <thead>\n",
       "    <tr>\n",
       "      <th></th>\n",
       "      <th colspan=\"6\" halign=\"left\">AGG</th>\n",
       "      <th colspan=\"6\" halign=\"left\">SPY</th>\n",
       "    </tr>\n",
       "    <tr>\n",
       "      <th></th>\n",
       "      <th>open</th>\n",
       "      <th>high</th>\n",
       "      <th>low</th>\n",
       "      <th>close</th>\n",
       "      <th>volume</th>\n",
       "      <th>daily_return</th>\n",
       "      <th>open</th>\n",
       "      <th>high</th>\n",
       "      <th>low</th>\n",
       "      <th>close</th>\n",
       "      <th>volume</th>\n",
       "      <th>daily_return</th>\n",
       "    </tr>\n",
       "    <tr>\n",
       "      <th>time</th>\n",
       "      <th></th>\n",
       "      <th></th>\n",
       "      <th></th>\n",
       "      <th></th>\n",
       "      <th></th>\n",
       "      <th></th>\n",
       "      <th></th>\n",
       "      <th></th>\n",
       "      <th></th>\n",
       "      <th></th>\n",
       "      <th></th>\n",
       "      <th></th>\n",
       "    </tr>\n",
       "  </thead>\n",
       "  <tbody>\n",
       "    <tr>\n",
       "      <th>2020-03-18 00:00:00-04:00</th>\n",
       "      <td>109.36</td>\n",
       "      <td>110.5700</td>\n",
       "      <td>105.7707</td>\n",
       "      <td>106.33</td>\n",
       "      <td>30117292</td>\n",
       "      <td>NaN</td>\n",
       "      <td>236.25</td>\n",
       "      <td>248.3700</td>\n",
       "      <td>228.02</td>\n",
       "      <td>241.01</td>\n",
       "      <td>298252778</td>\n",
       "      <td>NaN</td>\n",
       "    </tr>\n",
       "    <tr>\n",
       "      <th>2020-03-19 00:00:00-04:00</th>\n",
       "      <td>106.47</td>\n",
       "      <td>109.2200</td>\n",
       "      <td>105.5600</td>\n",
       "      <td>108.97</td>\n",
       "      <td>21031320</td>\n",
       "      <td>0.024828</td>\n",
       "      <td>239.25</td>\n",
       "      <td>247.3800</td>\n",
       "      <td>232.22</td>\n",
       "      <td>241.16</td>\n",
       "      <td>261233795</td>\n",
       "      <td>0.000622</td>\n",
       "    </tr>\n",
       "    <tr>\n",
       "      <th>2020-03-20 00:00:00-04:00</th>\n",
       "      <td>108.46</td>\n",
       "      <td>110.2399</td>\n",
       "      <td>108.4600</td>\n",
       "      <td>109.49</td>\n",
       "      <td>28449412</td>\n",
       "      <td>0.004772</td>\n",
       "      <td>242.53</td>\n",
       "      <td>244.4700</td>\n",
       "      <td>228.50</td>\n",
       "      <td>228.94</td>\n",
       "      <td>302880969</td>\n",
       "      <td>-0.050672</td>\n",
       "    </tr>\n",
       "    <tr>\n",
       "      <th>2020-03-23 00:00:00-04:00</th>\n",
       "      <td>109.90</td>\n",
       "      <td>112.9400</td>\n",
       "      <td>109.0000</td>\n",
       "      <td>112.55</td>\n",
       "      <td>23873510</td>\n",
       "      <td>0.027948</td>\n",
       "      <td>228.19</td>\n",
       "      <td>229.6833</td>\n",
       "      <td>218.26</td>\n",
       "      <td>222.51</td>\n",
       "      <td>280560712</td>\n",
       "      <td>-0.028086</td>\n",
       "    </tr>\n",
       "    <tr>\n",
       "      <th>2020-03-24 00:00:00-04:00</th>\n",
       "      <td>111.52</td>\n",
       "      <td>113.5000</td>\n",
       "      <td>111.0754</td>\n",
       "      <td>113.29</td>\n",
       "      <td>18141498</td>\n",
       "      <td>0.006575</td>\n",
       "      <td>234.42</td>\n",
       "      <td>244.1000</td>\n",
       "      <td>233.80</td>\n",
       "      <td>243.59</td>\n",
       "      <td>211595249</td>\n",
       "      <td>0.094737</td>\n",
       "    </tr>\n",
       "  </tbody>\n",
       "</table>\n",
       "</div>"
      ],
      "text/plain": [
       "                              AGG                                        \\\n",
       "                             open      high       low   close    volume   \n",
       "time                                                                      \n",
       "2020-03-18 00:00:00-04:00  109.36  110.5700  105.7707  106.33  30117292   \n",
       "2020-03-19 00:00:00-04:00  106.47  109.2200  105.5600  108.97  21031320   \n",
       "2020-03-20 00:00:00-04:00  108.46  110.2399  108.4600  109.49  28449412   \n",
       "2020-03-23 00:00:00-04:00  109.90  112.9400  109.0000  112.55  23873510   \n",
       "2020-03-24 00:00:00-04:00  111.52  113.5000  111.0754  113.29  18141498   \n",
       "\n",
       "                                           SPY                            \\\n",
       "                          daily_return    open      high     low   close   \n",
       "time                                                                       \n",
       "2020-03-18 00:00:00-04:00          NaN  236.25  248.3700  228.02  241.01   \n",
       "2020-03-19 00:00:00-04:00     0.024828  239.25  247.3800  232.22  241.16   \n",
       "2020-03-20 00:00:00-04:00     0.004772  242.53  244.4700  228.50  228.94   \n",
       "2020-03-23 00:00:00-04:00     0.027948  228.19  229.6833  218.26  222.51   \n",
       "2020-03-24 00:00:00-04:00     0.006575  234.42  244.1000  233.80  243.59   \n",
       "\n",
       "                                                   \n",
       "                              volume daily_return  \n",
       "time                                               \n",
       "2020-03-18 00:00:00-04:00  298252778          NaN  \n",
       "2020-03-19 00:00:00-04:00  261233795     0.000622  \n",
       "2020-03-20 00:00:00-04:00  302880969    -0.050672  \n",
       "2020-03-23 00:00:00-04:00  280560712    -0.028086  \n",
       "2020-03-24 00:00:00-04:00  211595249     0.094737  "
      ]
     },
     "execution_count": 30,
     "metadata": {},
     "output_type": "execute_result"
    }
   ],
   "source": [
    "# Configure the Monte Carlo simulation to forecast 30 years cumulative returns\n",
    "# The weights should be split 40% to AGG and 60% to SPY.\n",
    "# Run 500 samples.\n",
    "MC_30_weight = MCSimulation(portfolio_data = prices_df, weights=[.60,.40], \n",
    "                              num_simulation = 500, num_trading_days= 252*30)\n",
    "\n",
    "# Review the simulation input data\n",
    "MC_30_weight.portfolio_data.head()\n"
   ]
  },
  {
   "cell_type": "code",
   "execution_count": 31,
   "metadata": {},
   "outputs": [
    {
     "name": "stdout",
     "output_type": "stream",
     "text": [
      "Running Monte Carlo simulation number 0.\n",
      "Running Monte Carlo simulation number 10.\n",
      "Running Monte Carlo simulation number 20.\n",
      "Running Monte Carlo simulation number 30.\n",
      "Running Monte Carlo simulation number 40.\n",
      "Running Monte Carlo simulation number 50.\n",
      "Running Monte Carlo simulation number 60.\n",
      "Running Monte Carlo simulation number 70.\n",
      "Running Monte Carlo simulation number 80.\n",
      "Running Monte Carlo simulation number 90.\n",
      "Running Monte Carlo simulation number 100.\n",
      "Running Monte Carlo simulation number 110.\n",
      "Running Monte Carlo simulation number 120.\n",
      "Running Monte Carlo simulation number 130.\n",
      "Running Monte Carlo simulation number 140.\n",
      "Running Monte Carlo simulation number 150.\n",
      "Running Monte Carlo simulation number 160.\n",
      "Running Monte Carlo simulation number 170.\n",
      "Running Monte Carlo simulation number 180.\n",
      "Running Monte Carlo simulation number 190.\n",
      "Running Monte Carlo simulation number 200.\n",
      "Running Monte Carlo simulation number 210.\n",
      "Running Monte Carlo simulation number 220.\n",
      "Running Monte Carlo simulation number 230.\n",
      "Running Monte Carlo simulation number 240.\n",
      "Running Monte Carlo simulation number 250.\n",
      "Running Monte Carlo simulation number 260.\n",
      "Running Monte Carlo simulation number 270.\n",
      "Running Monte Carlo simulation number 280.\n",
      "Running Monte Carlo simulation number 290.\n",
      "Running Monte Carlo simulation number 300.\n",
      "Running Monte Carlo simulation number 310.\n",
      "Running Monte Carlo simulation number 320.\n",
      "Running Monte Carlo simulation number 330.\n",
      "Running Monte Carlo simulation number 340.\n",
      "Running Monte Carlo simulation number 350.\n",
      "Running Monte Carlo simulation number 360.\n",
      "Running Monte Carlo simulation number 370.\n",
      "Running Monte Carlo simulation number 380.\n",
      "Running Monte Carlo simulation number 390.\n",
      "Running Monte Carlo simulation number 400.\n",
      "Running Monte Carlo simulation number 410.\n",
      "Running Monte Carlo simulation number 420.\n",
      "Running Monte Carlo simulation number 430.\n",
      "Running Monte Carlo simulation number 440.\n",
      "Running Monte Carlo simulation number 450.\n",
      "Running Monte Carlo simulation number 460.\n",
      "Running Monte Carlo simulation number 470.\n",
      "Running Monte Carlo simulation number 480.\n",
      "Running Monte Carlo simulation number 490.\n"
     ]
    },
    {
     "data": {
      "text/html": [
       "<div>\n",
       "<style scoped>\n",
       "    .dataframe tbody tr th:only-of-type {\n",
       "        vertical-align: middle;\n",
       "    }\n",
       "\n",
       "    .dataframe tbody tr th {\n",
       "        vertical-align: top;\n",
       "    }\n",
       "\n",
       "    .dataframe thead th {\n",
       "        text-align: right;\n",
       "    }\n",
       "</style>\n",
       "<table border=\"1\" class=\"dataframe\">\n",
       "  <thead>\n",
       "    <tr style=\"text-align: right;\">\n",
       "      <th></th>\n",
       "      <th>0</th>\n",
       "      <th>1</th>\n",
       "      <th>2</th>\n",
       "      <th>3</th>\n",
       "      <th>4</th>\n",
       "      <th>5</th>\n",
       "      <th>6</th>\n",
       "      <th>7</th>\n",
       "      <th>8</th>\n",
       "      <th>9</th>\n",
       "      <th>...</th>\n",
       "      <th>490</th>\n",
       "      <th>491</th>\n",
       "      <th>492</th>\n",
       "      <th>493</th>\n",
       "      <th>494</th>\n",
       "      <th>495</th>\n",
       "      <th>496</th>\n",
       "      <th>497</th>\n",
       "      <th>498</th>\n",
       "      <th>499</th>\n",
       "    </tr>\n",
       "  </thead>\n",
       "  <tbody>\n",
       "    <tr>\n",
       "      <th>0</th>\n",
       "      <td>1.000000e+00</td>\n",
       "      <td>1.000000e+00</td>\n",
       "      <td>1.000000e+00</td>\n",
       "      <td>1.000000e+00</td>\n",
       "      <td>1.000000e+00</td>\n",
       "      <td>1.000000e+00</td>\n",
       "      <td>1.000000e+00</td>\n",
       "      <td>1.000000e+00</td>\n",
       "      <td>1.000000e+00</td>\n",
       "      <td>1.000000e+00</td>\n",
       "      <td>...</td>\n",
       "      <td>1.000000e+00</td>\n",
       "      <td>1.000000e+00</td>\n",
       "      <td>1.000000e+00</td>\n",
       "      <td>1.000000e+00</td>\n",
       "      <td>1.000000e+00</td>\n",
       "      <td>1.000000e+00</td>\n",
       "      <td>1.000000e+00</td>\n",
       "      <td>1.000000e+00</td>\n",
       "      <td>1.000000e+00</td>\n",
       "      <td>1.000000e+00</td>\n",
       "    </tr>\n",
       "    <tr>\n",
       "      <th>1</th>\n",
       "      <td>1.001914e+00</td>\n",
       "      <td>1.002581e+00</td>\n",
       "      <td>9.973975e-01</td>\n",
       "      <td>1.005264e+00</td>\n",
       "      <td>1.002953e+00</td>\n",
       "      <td>1.008421e+00</td>\n",
       "      <td>1.000503e+00</td>\n",
       "      <td>1.005740e+00</td>\n",
       "      <td>1.007687e+00</td>\n",
       "      <td>1.005296e+00</td>\n",
       "      <td>...</td>\n",
       "      <td>1.003450e+00</td>\n",
       "      <td>9.934976e-01</td>\n",
       "      <td>1.017139e+00</td>\n",
       "      <td>1.017626e+00</td>\n",
       "      <td>1.004481e+00</td>\n",
       "      <td>9.969355e-01</td>\n",
       "      <td>9.962170e-01</td>\n",
       "      <td>1.009648e+00</td>\n",
       "      <td>1.006357e+00</td>\n",
       "      <td>1.008064e+00</td>\n",
       "    </tr>\n",
       "    <tr>\n",
       "      <th>2</th>\n",
       "      <td>9.988553e-01</td>\n",
       "      <td>1.014403e+00</td>\n",
       "      <td>9.973596e-01</td>\n",
       "      <td>1.016451e+00</td>\n",
       "      <td>1.003138e+00</td>\n",
       "      <td>1.006281e+00</td>\n",
       "      <td>1.013192e+00</td>\n",
       "      <td>9.930612e-01</td>\n",
       "      <td>1.001759e+00</td>\n",
       "      <td>1.002838e+00</td>\n",
       "      <td>...</td>\n",
       "      <td>1.004127e+00</td>\n",
       "      <td>9.925322e-01</td>\n",
       "      <td>1.018729e+00</td>\n",
       "      <td>1.011240e+00</td>\n",
       "      <td>9.961743e-01</td>\n",
       "      <td>1.001621e+00</td>\n",
       "      <td>9.933823e-01</td>\n",
       "      <td>1.005622e+00</td>\n",
       "      <td>9.923312e-01</td>\n",
       "      <td>1.003932e+00</td>\n",
       "    </tr>\n",
       "    <tr>\n",
       "      <th>3</th>\n",
       "      <td>9.945848e-01</td>\n",
       "      <td>1.018721e+00</td>\n",
       "      <td>1.000309e+00</td>\n",
       "      <td>1.032480e+00</td>\n",
       "      <td>9.962706e-01</td>\n",
       "      <td>1.017516e+00</td>\n",
       "      <td>1.010777e+00</td>\n",
       "      <td>1.005026e+00</td>\n",
       "      <td>9.999772e-01</td>\n",
       "      <td>1.007472e+00</td>\n",
       "      <td>...</td>\n",
       "      <td>1.004726e+00</td>\n",
       "      <td>9.892144e-01</td>\n",
       "      <td>1.015941e+00</td>\n",
       "      <td>1.005693e+00</td>\n",
       "      <td>1.016092e+00</td>\n",
       "      <td>1.015589e+00</td>\n",
       "      <td>1.003738e+00</td>\n",
       "      <td>1.014611e+00</td>\n",
       "      <td>9.810134e-01</td>\n",
       "      <td>9.959728e-01</td>\n",
       "    </tr>\n",
       "    <tr>\n",
       "      <th>4</th>\n",
       "      <td>9.944335e-01</td>\n",
       "      <td>1.013603e+00</td>\n",
       "      <td>1.000410e+00</td>\n",
       "      <td>1.021736e+00</td>\n",
       "      <td>9.839983e-01</td>\n",
       "      <td>1.023480e+00</td>\n",
       "      <td>1.013319e+00</td>\n",
       "      <td>9.947301e-01</td>\n",
       "      <td>1.004229e+00</td>\n",
       "      <td>1.005120e+00</td>\n",
       "      <td>...</td>\n",
       "      <td>1.006472e+00</td>\n",
       "      <td>9.677113e-01</td>\n",
       "      <td>1.019719e+00</td>\n",
       "      <td>9.964758e-01</td>\n",
       "      <td>1.011109e+00</td>\n",
       "      <td>1.012967e+00</td>\n",
       "      <td>9.951964e-01</td>\n",
       "      <td>1.021385e+00</td>\n",
       "      <td>9.784270e-01</td>\n",
       "      <td>9.966831e-01</td>\n",
       "    </tr>\n",
       "    <tr>\n",
       "      <th>...</th>\n",
       "      <td>...</td>\n",
       "      <td>...</td>\n",
       "      <td>...</td>\n",
       "      <td>...</td>\n",
       "      <td>...</td>\n",
       "      <td>...</td>\n",
       "      <td>...</td>\n",
       "      <td>...</td>\n",
       "      <td>...</td>\n",
       "      <td>...</td>\n",
       "      <td>...</td>\n",
       "      <td>...</td>\n",
       "      <td>...</td>\n",
       "      <td>...</td>\n",
       "      <td>...</td>\n",
       "      <td>...</td>\n",
       "      <td>...</td>\n",
       "      <td>...</td>\n",
       "      <td>...</td>\n",
       "      <td>...</td>\n",
       "      <td>...</td>\n",
       "    </tr>\n",
       "    <tr>\n",
       "      <th>7556</th>\n",
       "      <td>8.090684e+06</td>\n",
       "      <td>6.182897e+06</td>\n",
       "      <td>2.675656e+06</td>\n",
       "      <td>8.734174e+06</td>\n",
       "      <td>4.002072e+06</td>\n",
       "      <td>7.698164e+06</td>\n",
       "      <td>1.500160e+07</td>\n",
       "      <td>3.923592e+06</td>\n",
       "      <td>2.143288e+06</td>\n",
       "      <td>2.863085e+07</td>\n",
       "      <td>...</td>\n",
       "      <td>7.983127e+06</td>\n",
       "      <td>6.544120e+06</td>\n",
       "      <td>7.067782e+06</td>\n",
       "      <td>6.321605e+06</td>\n",
       "      <td>1.836925e+07</td>\n",
       "      <td>4.194910e+06</td>\n",
       "      <td>5.375951e+06</td>\n",
       "      <td>1.888203e+06</td>\n",
       "      <td>2.077772e+06</td>\n",
       "      <td>5.641526e+06</td>\n",
       "    </tr>\n",
       "    <tr>\n",
       "      <th>7557</th>\n",
       "      <td>8.012323e+06</td>\n",
       "      <td>6.323783e+06</td>\n",
       "      <td>2.682794e+06</td>\n",
       "      <td>8.770093e+06</td>\n",
       "      <td>4.045456e+06</td>\n",
       "      <td>7.740149e+06</td>\n",
       "      <td>1.503523e+07</td>\n",
       "      <td>3.886153e+06</td>\n",
       "      <td>2.134881e+06</td>\n",
       "      <td>2.852560e+07</td>\n",
       "      <td>...</td>\n",
       "      <td>8.105716e+06</td>\n",
       "      <td>6.542582e+06</td>\n",
       "      <td>7.183834e+06</td>\n",
       "      <td>6.314427e+06</td>\n",
       "      <td>1.858142e+07</td>\n",
       "      <td>4.216799e+06</td>\n",
       "      <td>5.370418e+06</td>\n",
       "      <td>1.880085e+06</td>\n",
       "      <td>2.101035e+06</td>\n",
       "      <td>5.694623e+06</td>\n",
       "    </tr>\n",
       "    <tr>\n",
       "      <th>7558</th>\n",
       "      <td>7.932929e+06</td>\n",
       "      <td>6.312890e+06</td>\n",
       "      <td>2.668191e+06</td>\n",
       "      <td>8.752046e+06</td>\n",
       "      <td>4.035908e+06</td>\n",
       "      <td>7.829888e+06</td>\n",
       "      <td>1.504980e+07</td>\n",
       "      <td>3.864803e+06</td>\n",
       "      <td>2.131004e+06</td>\n",
       "      <td>2.879232e+07</td>\n",
       "      <td>...</td>\n",
       "      <td>8.165812e+06</td>\n",
       "      <td>6.715312e+06</td>\n",
       "      <td>7.239769e+06</td>\n",
       "      <td>6.324255e+06</td>\n",
       "      <td>1.854813e+07</td>\n",
       "      <td>4.174001e+06</td>\n",
       "      <td>5.404524e+06</td>\n",
       "      <td>1.901121e+06</td>\n",
       "      <td>2.118914e+06</td>\n",
       "      <td>5.727254e+06</td>\n",
       "    </tr>\n",
       "    <tr>\n",
       "      <th>7559</th>\n",
       "      <td>8.120163e+06</td>\n",
       "      <td>6.482856e+06</td>\n",
       "      <td>2.629624e+06</td>\n",
       "      <td>8.692085e+06</td>\n",
       "      <td>4.055907e+06</td>\n",
       "      <td>7.892835e+06</td>\n",
       "      <td>1.506936e+07</td>\n",
       "      <td>3.881082e+06</td>\n",
       "      <td>2.123969e+06</td>\n",
       "      <td>2.880880e+07</td>\n",
       "      <td>...</td>\n",
       "      <td>8.113382e+06</td>\n",
       "      <td>6.726643e+06</td>\n",
       "      <td>7.275448e+06</td>\n",
       "      <td>6.389878e+06</td>\n",
       "      <td>1.861910e+07</td>\n",
       "      <td>4.240477e+06</td>\n",
       "      <td>5.332681e+06</td>\n",
       "      <td>1.891096e+06</td>\n",
       "      <td>2.140524e+06</td>\n",
       "      <td>5.844818e+06</td>\n",
       "    </tr>\n",
       "    <tr>\n",
       "      <th>7560</th>\n",
       "      <td>8.240043e+06</td>\n",
       "      <td>6.578757e+06</td>\n",
       "      <td>2.673695e+06</td>\n",
       "      <td>8.703571e+06</td>\n",
       "      <td>4.031138e+06</td>\n",
       "      <td>7.814209e+06</td>\n",
       "      <td>1.519413e+07</td>\n",
       "      <td>3.883314e+06</td>\n",
       "      <td>2.144026e+06</td>\n",
       "      <td>2.934742e+07</td>\n",
       "      <td>...</td>\n",
       "      <td>8.182659e+06</td>\n",
       "      <td>6.764523e+06</td>\n",
       "      <td>7.348956e+06</td>\n",
       "      <td>6.455948e+06</td>\n",
       "      <td>1.878064e+07</td>\n",
       "      <td>4.232015e+06</td>\n",
       "      <td>5.333200e+06</td>\n",
       "      <td>1.896517e+06</td>\n",
       "      <td>2.153829e+06</td>\n",
       "      <td>5.907389e+06</td>\n",
       "    </tr>\n",
       "  </tbody>\n",
       "</table>\n",
       "<p>7561 rows × 500 columns</p>\n",
       "</div>"
      ],
      "text/plain": [
       "               0             1             2             3             4    \\\n",
       "0     1.000000e+00  1.000000e+00  1.000000e+00  1.000000e+00  1.000000e+00   \n",
       "1     1.001914e+00  1.002581e+00  9.973975e-01  1.005264e+00  1.002953e+00   \n",
       "2     9.988553e-01  1.014403e+00  9.973596e-01  1.016451e+00  1.003138e+00   \n",
       "3     9.945848e-01  1.018721e+00  1.000309e+00  1.032480e+00  9.962706e-01   \n",
       "4     9.944335e-01  1.013603e+00  1.000410e+00  1.021736e+00  9.839983e-01   \n",
       "...            ...           ...           ...           ...           ...   \n",
       "7556  8.090684e+06  6.182897e+06  2.675656e+06  8.734174e+06  4.002072e+06   \n",
       "7557  8.012323e+06  6.323783e+06  2.682794e+06  8.770093e+06  4.045456e+06   \n",
       "7558  7.932929e+06  6.312890e+06  2.668191e+06  8.752046e+06  4.035908e+06   \n",
       "7559  8.120163e+06  6.482856e+06  2.629624e+06  8.692085e+06  4.055907e+06   \n",
       "7560  8.240043e+06  6.578757e+06  2.673695e+06  8.703571e+06  4.031138e+06   \n",
       "\n",
       "               5             6             7             8             9    \\\n",
       "0     1.000000e+00  1.000000e+00  1.000000e+00  1.000000e+00  1.000000e+00   \n",
       "1     1.008421e+00  1.000503e+00  1.005740e+00  1.007687e+00  1.005296e+00   \n",
       "2     1.006281e+00  1.013192e+00  9.930612e-01  1.001759e+00  1.002838e+00   \n",
       "3     1.017516e+00  1.010777e+00  1.005026e+00  9.999772e-01  1.007472e+00   \n",
       "4     1.023480e+00  1.013319e+00  9.947301e-01  1.004229e+00  1.005120e+00   \n",
       "...            ...           ...           ...           ...           ...   \n",
       "7556  7.698164e+06  1.500160e+07  3.923592e+06  2.143288e+06  2.863085e+07   \n",
       "7557  7.740149e+06  1.503523e+07  3.886153e+06  2.134881e+06  2.852560e+07   \n",
       "7558  7.829888e+06  1.504980e+07  3.864803e+06  2.131004e+06  2.879232e+07   \n",
       "7559  7.892835e+06  1.506936e+07  3.881082e+06  2.123969e+06  2.880880e+07   \n",
       "7560  7.814209e+06  1.519413e+07  3.883314e+06  2.144026e+06  2.934742e+07   \n",
       "\n",
       "      ...           490           491           492           493  \\\n",
       "0     ...  1.000000e+00  1.000000e+00  1.000000e+00  1.000000e+00   \n",
       "1     ...  1.003450e+00  9.934976e-01  1.017139e+00  1.017626e+00   \n",
       "2     ...  1.004127e+00  9.925322e-01  1.018729e+00  1.011240e+00   \n",
       "3     ...  1.004726e+00  9.892144e-01  1.015941e+00  1.005693e+00   \n",
       "4     ...  1.006472e+00  9.677113e-01  1.019719e+00  9.964758e-01   \n",
       "...   ...           ...           ...           ...           ...   \n",
       "7556  ...  7.983127e+06  6.544120e+06  7.067782e+06  6.321605e+06   \n",
       "7557  ...  8.105716e+06  6.542582e+06  7.183834e+06  6.314427e+06   \n",
       "7558  ...  8.165812e+06  6.715312e+06  7.239769e+06  6.324255e+06   \n",
       "7559  ...  8.113382e+06  6.726643e+06  7.275448e+06  6.389878e+06   \n",
       "7560  ...  8.182659e+06  6.764523e+06  7.348956e+06  6.455948e+06   \n",
       "\n",
       "               494           495           496           497           498  \\\n",
       "0     1.000000e+00  1.000000e+00  1.000000e+00  1.000000e+00  1.000000e+00   \n",
       "1     1.004481e+00  9.969355e-01  9.962170e-01  1.009648e+00  1.006357e+00   \n",
       "2     9.961743e-01  1.001621e+00  9.933823e-01  1.005622e+00  9.923312e-01   \n",
       "3     1.016092e+00  1.015589e+00  1.003738e+00  1.014611e+00  9.810134e-01   \n",
       "4     1.011109e+00  1.012967e+00  9.951964e-01  1.021385e+00  9.784270e-01   \n",
       "...            ...           ...           ...           ...           ...   \n",
       "7556  1.836925e+07  4.194910e+06  5.375951e+06  1.888203e+06  2.077772e+06   \n",
       "7557  1.858142e+07  4.216799e+06  5.370418e+06  1.880085e+06  2.101035e+06   \n",
       "7558  1.854813e+07  4.174001e+06  5.404524e+06  1.901121e+06  2.118914e+06   \n",
       "7559  1.861910e+07  4.240477e+06  5.332681e+06  1.891096e+06  2.140524e+06   \n",
       "7560  1.878064e+07  4.232015e+06  5.333200e+06  1.896517e+06  2.153829e+06   \n",
       "\n",
       "               499  \n",
       "0     1.000000e+00  \n",
       "1     1.008064e+00  \n",
       "2     1.003932e+00  \n",
       "3     9.959728e-01  \n",
       "4     9.966831e-01  \n",
       "...            ...  \n",
       "7556  5.641526e+06  \n",
       "7557  5.694623e+06  \n",
       "7558  5.727254e+06  \n",
       "7559  5.844818e+06  \n",
       "7560  5.907389e+06  \n",
       "\n",
       "[7561 rows x 500 columns]"
      ]
     },
     "execution_count": 31,
     "metadata": {},
     "output_type": "execute_result"
    }
   ],
   "source": [
    "# Run the Monte Carlo simulation to forecast 30 years cumulative returns\n",
    "MC_30_weight.calc_cumulative_return()\n"
   ]
  },
  {
   "cell_type": "code",
   "execution_count": 32,
   "metadata": {},
   "outputs": [
    {
     "data": {
      "image/png": "[encoded data removed]",
      "text/plain": [
       "<Figure size 432x288 with 1 Axes>"
      ]
     },
     "metadata": {
      "needs_background": "light"
     },
     "output_type": "display_data"
    }
   ],
   "source": [
    "# Visualize the 30-year Monte Carlo simulation by creating an\n",
    "# overlay line plot\n",
    "MC_weight_line_plot = MC_30_weight.plot_simulation()\n"
   ]
  },
  {
   "cell_type": "markdown",
   "metadata": {},
   "source": [
    "#### Step 3: Plot the probability distribution of the Monte Carlo simulation."
   ]
  },
  {
   "cell_type": "code",
   "execution_count": 33,
   "metadata": {},
   "outputs": [
    {
     "data": {
      "image/png": "[encoded data removed]",
      "text/plain": [
       "<Figure size 432x288 with 1 Axes>"
      ]
     },
     "metadata": {
      "needs_background": "light"
     },
     "output_type": "display_data"
    }
   ],
   "source": [
    "# Visualize the probability distribution of the 30-year Monte Carlo simulation \n",
    "# by plotting a histogram\n",
    "MC_weight_distribution_plot = MC_30_weight.plot_distribution()\n"
   ]
  },
  {
   "cell_type": "markdown",
   "metadata": {},
   "source": [
    "#### Step 4: Generate the summary statistics for the Monte Carlo simulation."
   ]
  },
  {
   "cell_type": "code",
   "execution_count": 34,
   "metadata": {},
   "outputs": [
    {
     "name": "stdout",
     "output_type": "stream",
     "text": [
      "count           5.000000e+02\n",
      "mean            9.034230e+06\n",
      "std             8.192228e+06\n",
      "min             8.404215e+05\n",
      "25%             4.018548e+06\n",
      "50%             6.364314e+06\n",
      "75%             1.131044e+07\n",
      "max             8.357267e+07\n",
      "95% CI Lower    1.721716e+06\n",
      "95% CI Upper    2.891840e+07\n",
      "Name: 7560, dtype: float64\n"
     ]
    }
   ],
   "source": [
    "# Generate summary statistics from the 30-year Monte Carlo simulation results\n",
    "# Save the results as a variable\n",
    "MC_weight_30_table = MC_30_weight.summarize_cumulative_return()\n",
    "\n",
    "\n",
    "# Review the 30-year Monte Carlo summary statistics\n",
    "print(MC_weight_30_table)"
   ]
  },
  {
   "cell_type": "markdown",
   "metadata": {},
   "source": [
    "### Analyze the Retirement Portfolio Forecasts\n",
    "\n",
    "Using the current value of only the stock and bond portion of the member's portfolio and the summary statistics that you generated from the Monte Carlo simulation, answer the following question in your Jupyter notebook:\n",
    "\n",
    "-  What are the lower and upper bounds for the expected value of the portfolio with a 95% confidence interval?\n"
   ]
  },
  {
   "cell_type": "code",
   "execution_count": 35,
   "metadata": {},
   "outputs": [
    {
     "name": "stdout",
     "output_type": "stream",
     "text": [
      "The value for stocks and bonds in this portfolio is $60689.5\n"
     ]
    }
   ],
   "source": [
    "# Print the current balance of the stock and bond portion of the members portfolio\n",
    "print(f\"The value for stocks and bonds in this portfolio is ${total_stocks_bonds}\")\n"
   ]
  },
  {
   "cell_type": "code",
   "execution_count": 36,
   "metadata": {},
   "outputs": [
    {
     "name": "stdout",
     "output_type": "stream",
     "text": [
      "There is a 95% chance that this portfolio will range between $104490103620.63 and $1755043412306.52.\n"
     ]
    }
   ],
   "source": [
    "# Use the lower and upper `95%` confidence intervals to calculate the range of the possible outcomes for the current stock/bond portfolio\n",
    "ci_lower_thirty_cumulative_return = round(MC_weight_30_table[8]*total_stocks_bonds,2)\n",
    "ci_upper_thirty_cumulative_return = round(MC_weight_30_table[9]*total_stocks_bonds,2)\n",
    "\n",
    "# Print the result of your calculations\n",
    "print(f\"There is a 95% chance that this portfolio will range between\"\n",
    "           f\" ${ci_lower_thirty_cumulative_return} and ${ci_upper_thirty_cumulative_return}.\")\n"
   ]
  },
  {
   "cell_type": "markdown",
   "metadata": {},
   "source": [
    "### Forecast Cumulative Returns in 10 Years\n",
    "\n",
    "The CTO of the credit union is impressed with your work on these planning tools but wonders if 30 years is a long time to wait until retirement. So, your next task is to adjust the retirement portfolio and run a new Monte Carlo simulation to find out if the changes will allow members to retire earlier.\n",
    "\n",
    "For this new Monte Carlo simulation, do the following: \n",
    "\n",
    "- Forecast the cumulative returns for 10 years from now. Because of the shortened investment horizon (30 years to 10 years), the portfolio needs to invest more heavily in the riskier asset&mdash;that is, stock&mdash;to help accumulate wealth for retirement. \n",
    "\n",
    "- Adjust the weights of the retirement portfolio so that the composition for the Monte Carlo simulation consists of 20% bonds and 80% stocks. \n",
    "\n",
    "- Run the simulation over 500 samples, and use the same data that the API call to Alpaca generated.\n",
    "\n",
    "- Based on the new Monte Carlo simulation, answer the following questions in your Jupyter notebook:\n",
    "\n",
    "    - Using the current value of only the stock and bond portion of the member's portfolio and the summary statistics that you generated from the new Monte Carlo simulation, what are the lower and upper bounds for the expected value of the portfolio (with the new weights) with a 95% confidence interval?\n",
    "\n",
    "    - Will weighting the portfolio more heavily toward stocks allow the credit union members to retire after only 10 years?\n"
   ]
  },
  {
   "cell_type": "code",
   "execution_count": 37,
   "metadata": {},
   "outputs": [
    {
     "data": {
      "text/html": [
       "<div>\n",
       "<style scoped>\n",
       "    .dataframe tbody tr th:only-of-type {\n",
       "        vertical-align: middle;\n",
       "    }\n",
       "\n",
       "    .dataframe tbody tr th {\n",
       "        vertical-align: top;\n",
       "    }\n",
       "\n",
       "    .dataframe thead tr th {\n",
       "        text-align: left;\n",
       "    }\n",
       "\n",
       "    .dataframe thead tr:last-of-type th {\n",
       "        text-align: right;\n",
       "    }\n",
       "</style>\n",
       "<table border=\"1\" class=\"dataframe\">\n",
       "  <thead>\n",
       "    <tr>\n",
       "      <th></th>\n",
       "      <th colspan=\"6\" halign=\"left\">AGG</th>\n",
       "      <th colspan=\"6\" halign=\"left\">SPY</th>\n",
       "    </tr>\n",
       "    <tr>\n",
       "      <th></th>\n",
       "      <th>open</th>\n",
       "      <th>high</th>\n",
       "      <th>low</th>\n",
       "      <th>close</th>\n",
       "      <th>volume</th>\n",
       "      <th>daily_return</th>\n",
       "      <th>open</th>\n",
       "      <th>high</th>\n",
       "      <th>low</th>\n",
       "      <th>close</th>\n",
       "      <th>volume</th>\n",
       "      <th>daily_return</th>\n",
       "    </tr>\n",
       "    <tr>\n",
       "      <th>time</th>\n",
       "      <th></th>\n",
       "      <th></th>\n",
       "      <th></th>\n",
       "      <th></th>\n",
       "      <th></th>\n",
       "      <th></th>\n",
       "      <th></th>\n",
       "      <th></th>\n",
       "      <th></th>\n",
       "      <th></th>\n",
       "      <th></th>\n",
       "      <th></th>\n",
       "    </tr>\n",
       "  </thead>\n",
       "  <tbody>\n",
       "    <tr>\n",
       "      <th>2020-03-18 00:00:00-04:00</th>\n",
       "      <td>109.36</td>\n",
       "      <td>110.5700</td>\n",
       "      <td>105.7707</td>\n",
       "      <td>106.33</td>\n",
       "      <td>30117292</td>\n",
       "      <td>NaN</td>\n",
       "      <td>236.25</td>\n",
       "      <td>248.3700</td>\n",
       "      <td>228.02</td>\n",
       "      <td>241.01</td>\n",
       "      <td>298252778</td>\n",
       "      <td>NaN</td>\n",
       "    </tr>\n",
       "    <tr>\n",
       "      <th>2020-03-19 00:00:00-04:00</th>\n",
       "      <td>106.47</td>\n",
       "      <td>109.2200</td>\n",
       "      <td>105.5600</td>\n",
       "      <td>108.97</td>\n",
       "      <td>21031320</td>\n",
       "      <td>0.024828</td>\n",
       "      <td>239.25</td>\n",
       "      <td>247.3800</td>\n",
       "      <td>232.22</td>\n",
       "      <td>241.16</td>\n",
       "      <td>261233795</td>\n",
       "      <td>0.000622</td>\n",
       "    </tr>\n",
       "    <tr>\n",
       "      <th>2020-03-20 00:00:00-04:00</th>\n",
       "      <td>108.46</td>\n",
       "      <td>110.2399</td>\n",
       "      <td>108.4600</td>\n",
       "      <td>109.49</td>\n",
       "      <td>28449412</td>\n",
       "      <td>0.004772</td>\n",
       "      <td>242.53</td>\n",
       "      <td>244.4700</td>\n",
       "      <td>228.50</td>\n",
       "      <td>228.94</td>\n",
       "      <td>302880969</td>\n",
       "      <td>-0.050672</td>\n",
       "    </tr>\n",
       "    <tr>\n",
       "      <th>2020-03-23 00:00:00-04:00</th>\n",
       "      <td>109.90</td>\n",
       "      <td>112.9400</td>\n",
       "      <td>109.0000</td>\n",
       "      <td>112.55</td>\n",
       "      <td>23873510</td>\n",
       "      <td>0.027948</td>\n",
       "      <td>228.19</td>\n",
       "      <td>229.6833</td>\n",
       "      <td>218.26</td>\n",
       "      <td>222.51</td>\n",
       "      <td>280560712</td>\n",
       "      <td>-0.028086</td>\n",
       "    </tr>\n",
       "    <tr>\n",
       "      <th>2020-03-24 00:00:00-04:00</th>\n",
       "      <td>111.52</td>\n",
       "      <td>113.5000</td>\n",
       "      <td>111.0754</td>\n",
       "      <td>113.29</td>\n",
       "      <td>18141498</td>\n",
       "      <td>0.006575</td>\n",
       "      <td>234.42</td>\n",
       "      <td>244.1000</td>\n",
       "      <td>233.80</td>\n",
       "      <td>243.59</td>\n",
       "      <td>211595249</td>\n",
       "      <td>0.094737</td>\n",
       "    </tr>\n",
       "  </tbody>\n",
       "</table>\n",
       "</div>"
      ],
      "text/plain": [
       "                              AGG                                        \\\n",
       "                             open      high       low   close    volume   \n",
       "time                                                                      \n",
       "2020-03-18 00:00:00-04:00  109.36  110.5700  105.7707  106.33  30117292   \n",
       "2020-03-19 00:00:00-04:00  106.47  109.2200  105.5600  108.97  21031320   \n",
       "2020-03-20 00:00:00-04:00  108.46  110.2399  108.4600  109.49  28449412   \n",
       "2020-03-23 00:00:00-04:00  109.90  112.9400  109.0000  112.55  23873510   \n",
       "2020-03-24 00:00:00-04:00  111.52  113.5000  111.0754  113.29  18141498   \n",
       "\n",
       "                                           SPY                            \\\n",
       "                          daily_return    open      high     low   close   \n",
       "time                                                                       \n",
       "2020-03-18 00:00:00-04:00          NaN  236.25  248.3700  228.02  241.01   \n",
       "2020-03-19 00:00:00-04:00     0.024828  239.25  247.3800  232.22  241.16   \n",
       "2020-03-20 00:00:00-04:00     0.004772  242.53  244.4700  228.50  228.94   \n",
       "2020-03-23 00:00:00-04:00     0.027948  228.19  229.6833  218.26  222.51   \n",
       "2020-03-24 00:00:00-04:00     0.006575  234.42  244.1000  233.80  243.59   \n",
       "\n",
       "                                                   \n",
       "                              volume daily_return  \n",
       "time                                               \n",
       "2020-03-18 00:00:00-04:00  298252778          NaN  \n",
       "2020-03-19 00:00:00-04:00  261233795     0.000622  \n",
       "2020-03-20 00:00:00-04:00  302880969    -0.050672  \n",
       "2020-03-23 00:00:00-04:00  280560712    -0.028086  \n",
       "2020-03-24 00:00:00-04:00  211595249     0.094737  "
      ]
     },
     "execution_count": 37,
     "metadata": {},
     "output_type": "execute_result"
    }
   ],
   "source": [
    "# Configure a Monte Carlo simulation to forecast 10 years cumulative returns\n",
    "# The weights should be split 20% to AGG and 80% to SPY.\n",
    "# Run 500 samples.\n",
    "MC_10_weight = MCSimulation(portfolio_data = prices_df, weights=[.80,.20], \n",
    "                              num_simulation = 500, num_trading_days= 252*10)\n",
    "\n",
    "# Review the simulation input data\n",
    "MC_10_weight.portfolio_data.head()\n",
    "\n"
   ]
  },
  {
   "cell_type": "code",
   "execution_count": 38,
   "metadata": {},
   "outputs": [
    {
     "name": "stdout",
     "output_type": "stream",
     "text": [
      "Running Monte Carlo simulation number 0.\n",
      "Running Monte Carlo simulation number 10.\n",
      "Running Monte Carlo simulation number 20.\n",
      "Running Monte Carlo simulation number 30.\n",
      "Running Monte Carlo simulation number 40.\n",
      "Running Monte Carlo simulation number 50.\n",
      "Running Monte Carlo simulation number 60.\n",
      "Running Monte Carlo simulation number 70.\n",
      "Running Monte Carlo simulation number 80.\n",
      "Running Monte Carlo simulation number 90.\n",
      "Running Monte Carlo simulation number 100.\n",
      "Running Monte Carlo simulation number 110.\n",
      "Running Monte Carlo simulation number 120.\n",
      "Running Monte Carlo simulation number 130.\n",
      "Running Monte Carlo simulation number 140.\n",
      "Running Monte Carlo simulation number 150.\n",
      "Running Monte Carlo simulation number 160.\n",
      "Running Monte Carlo simulation number 170.\n",
      "Running Monte Carlo simulation number 180.\n",
      "Running Monte Carlo simulation number 190.\n",
      "Running Monte Carlo simulation number 200.\n",
      "Running Monte Carlo simulation number 210.\n",
      "Running Monte Carlo simulation number 220.\n",
      "Running Monte Carlo simulation number 230.\n",
      "Running Monte Carlo simulation number 240.\n",
      "Running Monte Carlo simulation number 250.\n",
      "Running Monte Carlo simulation number 260.\n",
      "Running Monte Carlo simulation number 270.\n",
      "Running Monte Carlo simulation number 280.\n",
      "Running Monte Carlo simulation number 290.\n",
      "Running Monte Carlo simulation number 300.\n",
      "Running Monte Carlo simulation number 310.\n",
      "Running Monte Carlo simulation number 320.\n",
      "Running Monte Carlo simulation number 330.\n",
      "Running Monte Carlo simulation number 340.\n",
      "Running Monte Carlo simulation number 350.\n",
      "Running Monte Carlo simulation number 360.\n",
      "Running Monte Carlo simulation number 370.\n",
      "Running Monte Carlo simulation number 380.\n",
      "Running Monte Carlo simulation number 390.\n",
      "Running Monte Carlo simulation number 400.\n",
      "Running Monte Carlo simulation number 410.\n",
      "Running Monte Carlo simulation number 420.\n",
      "Running Monte Carlo simulation number 430.\n",
      "Running Monte Carlo simulation number 440.\n",
      "Running Monte Carlo simulation number 450.\n",
      "Running Monte Carlo simulation number 460.\n",
      "Running Monte Carlo simulation number 470.\n",
      "Running Monte Carlo simulation number 480.\n",
      "Running Monte Carlo simulation number 490.\n"
     ]
    },
    {
     "data": {
      "text/html": [
       "<div>\n",
       "<style scoped>\n",
       "    .dataframe tbody tr th:only-of-type {\n",
       "        vertical-align: middle;\n",
       "    }\n",
       "\n",
       "    .dataframe tbody tr th {\n",
       "        vertical-align: top;\n",
       "    }\n",
       "\n",
       "    .dataframe thead th {\n",
       "        text-align: right;\n",
       "    }\n",
       "</style>\n",
       "<table border=\"1\" class=\"dataframe\">\n",
       "  <thead>\n",
       "    <tr style=\"text-align: right;\">\n",
       "      <th></th>\n",
       "      <th>0</th>\n",
       "      <th>1</th>\n",
       "      <th>2</th>\n",
       "      <th>3</th>\n",
       "      <th>4</th>\n",
       "      <th>5</th>\n",
       "      <th>6</th>\n",
       "      <th>7</th>\n",
       "      <th>8</th>\n",
       "      <th>9</th>\n",
       "      <th>...</th>\n",
       "      <th>490</th>\n",
       "      <th>491</th>\n",
       "      <th>492</th>\n",
       "      <th>493</th>\n",
       "      <th>494</th>\n",
       "      <th>495</th>\n",
       "      <th>496</th>\n",
       "      <th>497</th>\n",
       "      <th>498</th>\n",
       "      <th>499</th>\n",
       "    </tr>\n",
       "  </thead>\n",
       "  <tbody>\n",
       "    <tr>\n",
       "      <th>0</th>\n",
       "      <td>1.000000</td>\n",
       "      <td>1.000000</td>\n",
       "      <td>1.000000</td>\n",
       "      <td>1.000000</td>\n",
       "      <td>1.000000</td>\n",
       "      <td>1.000000</td>\n",
       "      <td>1.000000</td>\n",
       "      <td>1.000000</td>\n",
       "      <td>1.000000</td>\n",
       "      <td>1.000000</td>\n",
       "      <td>...</td>\n",
       "      <td>1.000000</td>\n",
       "      <td>1.000000</td>\n",
       "      <td>1.000000</td>\n",
       "      <td>1.000000</td>\n",
       "      <td>1.000000</td>\n",
       "      <td>1.000000</td>\n",
       "      <td>1.000000</td>\n",
       "      <td>1.000000</td>\n",
       "      <td>1.000000</td>\n",
       "      <td>1.000000</td>\n",
       "    </tr>\n",
       "    <tr>\n",
       "      <th>1</th>\n",
       "      <td>0.996271</td>\n",
       "      <td>0.992595</td>\n",
       "      <td>0.998637</td>\n",
       "      <td>0.991738</td>\n",
       "      <td>1.000915</td>\n",
       "      <td>1.007111</td>\n",
       "      <td>1.001348</td>\n",
       "      <td>0.999789</td>\n",
       "      <td>1.009800</td>\n",
       "      <td>0.995838</td>\n",
       "      <td>...</td>\n",
       "      <td>0.995192</td>\n",
       "      <td>1.014839</td>\n",
       "      <td>1.007571</td>\n",
       "      <td>1.006377</td>\n",
       "      <td>0.996535</td>\n",
       "      <td>1.009442</td>\n",
       "      <td>1.002978</td>\n",
       "      <td>0.997544</td>\n",
       "      <td>1.003494</td>\n",
       "      <td>0.996293</td>\n",
       "    </tr>\n",
       "    <tr>\n",
       "      <th>2</th>\n",
       "      <td>1.001381</td>\n",
       "      <td>0.996088</td>\n",
       "      <td>1.000377</td>\n",
       "      <td>0.999709</td>\n",
       "      <td>1.005433</td>\n",
       "      <td>1.021182</td>\n",
       "      <td>1.004666</td>\n",
       "      <td>0.996780</td>\n",
       "      <td>1.009673</td>\n",
       "      <td>1.001331</td>\n",
       "      <td>...</td>\n",
       "      <td>1.002346</td>\n",
       "      <td>1.012950</td>\n",
       "      <td>1.010755</td>\n",
       "      <td>1.009232</td>\n",
       "      <td>1.005414</td>\n",
       "      <td>1.005721</td>\n",
       "      <td>1.006995</td>\n",
       "      <td>0.992539</td>\n",
       "      <td>1.009188</td>\n",
       "      <td>0.997457</td>\n",
       "    </tr>\n",
       "    <tr>\n",
       "      <th>3</th>\n",
       "      <td>0.999881</td>\n",
       "      <td>0.991783</td>\n",
       "      <td>0.996737</td>\n",
       "      <td>1.002790</td>\n",
       "      <td>1.006867</td>\n",
       "      <td>1.035360</td>\n",
       "      <td>1.010066</td>\n",
       "      <td>1.001419</td>\n",
       "      <td>1.005408</td>\n",
       "      <td>0.985414</td>\n",
       "      <td>...</td>\n",
       "      <td>1.012648</td>\n",
       "      <td>1.009606</td>\n",
       "      <td>1.014608</td>\n",
       "      <td>1.006723</td>\n",
       "      <td>1.003781</td>\n",
       "      <td>1.004702</td>\n",
       "      <td>1.008669</td>\n",
       "      <td>0.985464</td>\n",
       "      <td>1.009076</td>\n",
       "      <td>1.006455</td>\n",
       "    </tr>\n",
       "    <tr>\n",
       "      <th>4</th>\n",
       "      <td>1.002825</td>\n",
       "      <td>0.989908</td>\n",
       "      <td>0.998640</td>\n",
       "      <td>1.006677</td>\n",
       "      <td>1.008896</td>\n",
       "      <td>1.030539</td>\n",
       "      <td>1.009796</td>\n",
       "      <td>0.997932</td>\n",
       "      <td>1.000360</td>\n",
       "      <td>0.980313</td>\n",
       "      <td>...</td>\n",
       "      <td>1.024495</td>\n",
       "      <td>1.007074</td>\n",
       "      <td>1.018460</td>\n",
       "      <td>1.015950</td>\n",
       "      <td>1.005097</td>\n",
       "      <td>1.009222</td>\n",
       "      <td>1.028241</td>\n",
       "      <td>1.000676</td>\n",
       "      <td>0.996077</td>\n",
       "      <td>1.003510</td>\n",
       "    </tr>\n",
       "    <tr>\n",
       "      <th>...</th>\n",
       "      <td>...</td>\n",
       "      <td>...</td>\n",
       "      <td>...</td>\n",
       "      <td>...</td>\n",
       "      <td>...</td>\n",
       "      <td>...</td>\n",
       "      <td>...</td>\n",
       "      <td>...</td>\n",
       "      <td>...</td>\n",
       "      <td>...</td>\n",
       "      <td>...</td>\n",
       "      <td>...</td>\n",
       "      <td>...</td>\n",
       "      <td>...</td>\n",
       "      <td>...</td>\n",
       "      <td>...</td>\n",
       "      <td>...</td>\n",
       "      <td>...</td>\n",
       "      <td>...</td>\n",
       "      <td>...</td>\n",
       "      <td>...</td>\n",
       "    </tr>\n",
       "    <tr>\n",
       "      <th>2516</th>\n",
       "      <td>55.775016</td>\n",
       "      <td>28.279110</td>\n",
       "      <td>81.501425</td>\n",
       "      <td>64.702658</td>\n",
       "      <td>39.368644</td>\n",
       "      <td>111.628429</td>\n",
       "      <td>76.321891</td>\n",
       "      <td>43.155873</td>\n",
       "      <td>80.267719</td>\n",
       "      <td>99.321774</td>\n",
       "      <td>...</td>\n",
       "      <td>78.816176</td>\n",
       "      <td>65.339478</td>\n",
       "      <td>90.860288</td>\n",
       "      <td>37.289336</td>\n",
       "      <td>68.222271</td>\n",
       "      <td>76.777700</td>\n",
       "      <td>44.876406</td>\n",
       "      <td>55.733593</td>\n",
       "      <td>55.215465</td>\n",
       "      <td>91.501476</td>\n",
       "    </tr>\n",
       "    <tr>\n",
       "      <th>2517</th>\n",
       "      <td>56.094938</td>\n",
       "      <td>28.438034</td>\n",
       "      <td>81.213543</td>\n",
       "      <td>65.445152</td>\n",
       "      <td>39.628773</td>\n",
       "      <td>111.079717</td>\n",
       "      <td>75.716703</td>\n",
       "      <td>43.043564</td>\n",
       "      <td>81.063387</td>\n",
       "      <td>99.503959</td>\n",
       "      <td>...</td>\n",
       "      <td>79.173581</td>\n",
       "      <td>65.190031</td>\n",
       "      <td>91.680650</td>\n",
       "      <td>37.328437</td>\n",
       "      <td>68.677171</td>\n",
       "      <td>76.968893</td>\n",
       "      <td>44.934687</td>\n",
       "      <td>55.566504</td>\n",
       "      <td>55.170814</td>\n",
       "      <td>91.952346</td>\n",
       "    </tr>\n",
       "    <tr>\n",
       "      <th>2518</th>\n",
       "      <td>56.159556</td>\n",
       "      <td>28.476272</td>\n",
       "      <td>81.470393</td>\n",
       "      <td>65.646255</td>\n",
       "      <td>39.217667</td>\n",
       "      <td>111.344212</td>\n",
       "      <td>75.929106</td>\n",
       "      <td>43.068017</td>\n",
       "      <td>81.614196</td>\n",
       "      <td>100.039040</td>\n",
       "      <td>...</td>\n",
       "      <td>79.372004</td>\n",
       "      <td>64.923855</td>\n",
       "      <td>91.087716</td>\n",
       "      <td>37.203492</td>\n",
       "      <td>68.651743</td>\n",
       "      <td>76.919816</td>\n",
       "      <td>45.289031</td>\n",
       "      <td>55.423538</td>\n",
       "      <td>55.170599</td>\n",
       "      <td>91.078410</td>\n",
       "    </tr>\n",
       "    <tr>\n",
       "      <th>2519</th>\n",
       "      <td>56.290421</td>\n",
       "      <td>28.631624</td>\n",
       "      <td>81.172259</td>\n",
       "      <td>65.640769</td>\n",
       "      <td>39.284553</td>\n",
       "      <td>112.402126</td>\n",
       "      <td>75.809518</td>\n",
       "      <td>43.160095</td>\n",
       "      <td>81.556691</td>\n",
       "      <td>100.397297</td>\n",
       "      <td>...</td>\n",
       "      <td>79.984633</td>\n",
       "      <td>65.142100</td>\n",
       "      <td>92.499023</td>\n",
       "      <td>37.238005</td>\n",
       "      <td>68.555541</td>\n",
       "      <td>75.974444</td>\n",
       "      <td>45.310679</td>\n",
       "      <td>55.817315</td>\n",
       "      <td>55.270987</td>\n",
       "      <td>91.078252</td>\n",
       "    </tr>\n",
       "    <tr>\n",
       "      <th>2520</th>\n",
       "      <td>56.606513</td>\n",
       "      <td>28.998173</td>\n",
       "      <td>81.226344</td>\n",
       "      <td>65.472552</td>\n",
       "      <td>38.982652</td>\n",
       "      <td>113.631209</td>\n",
       "      <td>75.485995</td>\n",
       "      <td>43.217068</td>\n",
       "      <td>81.513106</td>\n",
       "      <td>100.115372</td>\n",
       "      <td>...</td>\n",
       "      <td>79.201451</td>\n",
       "      <td>65.137494</td>\n",
       "      <td>92.219656</td>\n",
       "      <td>37.011391</td>\n",
       "      <td>68.310797</td>\n",
       "      <td>76.669009</td>\n",
       "      <td>45.724386</td>\n",
       "      <td>55.894566</td>\n",
       "      <td>55.323521</td>\n",
       "      <td>91.290182</td>\n",
       "    </tr>\n",
       "  </tbody>\n",
       "</table>\n",
       "<p>2521 rows × 500 columns</p>\n",
       "</div>"
      ],
      "text/plain": [
       "            0          1          2          3          4           5    \\\n",
       "0      1.000000   1.000000   1.000000   1.000000   1.000000    1.000000   \n",
       "1      0.996271   0.992595   0.998637   0.991738   1.000915    1.007111   \n",
       "2      1.001381   0.996088   1.000377   0.999709   1.005433    1.021182   \n",
       "3      0.999881   0.991783   0.996737   1.002790   1.006867    1.035360   \n",
       "4      1.002825   0.989908   0.998640   1.006677   1.008896    1.030539   \n",
       "...         ...        ...        ...        ...        ...         ...   \n",
       "2516  55.775016  28.279110  81.501425  64.702658  39.368644  111.628429   \n",
       "2517  56.094938  28.438034  81.213543  65.445152  39.628773  111.079717   \n",
       "2518  56.159556  28.476272  81.470393  65.646255  39.217667  111.344212   \n",
       "2519  56.290421  28.631624  81.172259  65.640769  39.284553  112.402126   \n",
       "2520  56.606513  28.998173  81.226344  65.472552  38.982652  113.631209   \n",
       "\n",
       "            6          7          8           9    ...        490        491  \\\n",
       "0      1.000000   1.000000   1.000000    1.000000  ...   1.000000   1.000000   \n",
       "1      1.001348   0.999789   1.009800    0.995838  ...   0.995192   1.014839   \n",
       "2      1.004666   0.996780   1.009673    1.001331  ...   1.002346   1.012950   \n",
       "3      1.010066   1.001419   1.005408    0.985414  ...   1.012648   1.009606   \n",
       "4      1.009796   0.997932   1.000360    0.980313  ...   1.024495   1.007074   \n",
       "...         ...        ...        ...         ...  ...        ...        ...   \n",
       "2516  76.321891  43.155873  80.267719   99.321774  ...  78.816176  65.339478   \n",
       "2517  75.716703  43.043564  81.063387   99.503959  ...  79.173581  65.190031   \n",
       "2518  75.929106  43.068017  81.614196  100.039040  ...  79.372004  64.923855   \n",
       "2519  75.809518  43.160095  81.556691  100.397297  ...  79.984633  65.142100   \n",
       "2520  75.485995  43.217068  81.513106  100.115372  ...  79.201451  65.137494   \n",
       "\n",
       "            492        493        494        495        496        497  \\\n",
       "0      1.000000   1.000000   1.000000   1.000000   1.000000   1.000000   \n",
       "1      1.007571   1.006377   0.996535   1.009442   1.002978   0.997544   \n",
       "2      1.010755   1.009232   1.005414   1.005721   1.006995   0.992539   \n",
       "3      1.014608   1.006723   1.003781   1.004702   1.008669   0.985464   \n",
       "4      1.018460   1.015950   1.005097   1.009222   1.028241   1.000676   \n",
       "...         ...        ...        ...        ...        ...        ...   \n",
       "2516  90.860288  37.289336  68.222271  76.777700  44.876406  55.733593   \n",
       "2517  91.680650  37.328437  68.677171  76.968893  44.934687  55.566504   \n",
       "2518  91.087716  37.203492  68.651743  76.919816  45.289031  55.423538   \n",
       "2519  92.499023  37.238005  68.555541  75.974444  45.310679  55.817315   \n",
       "2520  92.219656  37.011391  68.310797  76.669009  45.724386  55.894566   \n",
       "\n",
       "            498        499  \n",
       "0      1.000000   1.000000  \n",
       "1      1.003494   0.996293  \n",
       "2      1.009188   0.997457  \n",
       "3      1.009076   1.006455  \n",
       "4      0.996077   1.003510  \n",
       "...         ...        ...  \n",
       "2516  55.215465  91.501476  \n",
       "2517  55.170814  91.952346  \n",
       "2518  55.170599  91.078410  \n",
       "2519  55.270987  91.078252  \n",
       "2520  55.323521  91.290182  \n",
       "\n",
       "[2521 rows x 500 columns]"
      ]
     },
     "execution_count": 38,
     "metadata": {},
     "output_type": "execute_result"
    }
   ],
   "source": [
    "# Run the Monte Carlo simulation to forecast 10 years cumulative returns\n",
    "MC_10_weight.calc_cumulative_return()\n"
   ]
  },
  {
   "cell_type": "code",
   "execution_count": 39,
   "metadata": {},
   "outputs": [
    {
     "data": {
      "image/png": "[encoded data removed]",
      "text/plain": [
       "<Figure size 432x288 with 1 Axes>"
      ]
     },
     "metadata": {
      "needs_background": "light"
     },
     "output_type": "display_data"
    }
   ],
   "source": [
    "# Visualize the 10-year Monte Carlo simulation by creating an\n",
    "# overlay line plot\n",
    "MC_weight_line_10_plot = MC_10_weight.plot_simulation()\n"
   ]
  },
  {
   "cell_type": "code",
   "execution_count": 40,
   "metadata": {},
   "outputs": [
    {
     "data": {
      "image/png": "[encoded data removed]",
      "text/plain": [
       "<Figure size 432x288 with 1 Axes>"
      ]
     },
     "metadata": {
      "needs_background": "light"
     },
     "output_type": "display_data"
    }
   ],
   "source": [
    "# Visualize the probability distribution of the 10-year Monte Carlo simulation \n",
    "# by plotting a histogram\n",
    "MC_weight_distribution_10_plot = MC_10_weight.plot_distribution()\n"
   ]
  },
  {
   "cell_type": "code",
   "execution_count": 41,
   "metadata": {},
   "outputs": [
    {
     "name": "stdout",
     "output_type": "stream",
     "text": [
      "count           500.000000\n",
      "mean             65.737075\n",
      "std              18.336380\n",
      "min              22.593547\n",
      "25%              53.035595\n",
      "50%              62.510997\n",
      "75%              76.755565\n",
      "max             144.632617\n",
      "95% CI Lower     37.483666\n",
      "95% CI Upper    105.350502\n",
      "Name: 2520, dtype: float64\n"
     ]
    }
   ],
   "source": [
    "# Generate summary statistics from the 10-year Monte Carlo simulation results\n",
    "# Save the results as a variable\n",
    "\n",
    "MC_weight_10_table = MC_10_weight.summarize_cumulative_return()\n",
    "\n",
    "# Review the 10-year Monte Carlo summary statistics\n",
    "# YOUR CODE HERE\n",
    "print(MC_weight_10_table)"
   ]
  },
  {
   "cell_type": "markdown",
   "metadata": {},
   "source": [
    "### Answer the following questions:"
   ]
  },
  {
   "cell_type": "markdown",
   "metadata": {},
   "source": [
    "#### Question: Using the current value of only the stock and bond portion of the member's portfolio and the summary statistics that you generated from the new Monte Carlo simulation, what are the lower and upper bounds for the expected value of the portfolio (with the new weights) with a 95% confidence interval?"
   ]
  },
  {
   "cell_type": "code",
   "execution_count": 42,
   "metadata": {},
   "outputs": [
    {
     "name": "stdout",
     "output_type": "stream",
     "text": [
      "The value for stocks and bonds in this portfolio is $60689.5\n"
     ]
    }
   ],
   "source": [
    "# Print the current balance of the stock and bond portion of the members portfolio\n",
    "print(f\"The value for stocks and bonds in this portfolio is ${total_stocks_bonds}\")\n"
   ]
  },
  {
   "cell_type": "code",
   "execution_count": 43,
   "metadata": {},
   "outputs": [
    {
     "name": "stdout",
     "output_type": "stream",
     "text": [
      "There is a 95% chance that this portfolio will range between $2274864.93 and $6393669.32.\n"
     ]
    }
   ],
   "source": [
    "# Use the lower and upper `95%` confidence intervals to calculate the range of the possible outcomes for the current stock/bond portfolio\n",
    "ci_lower_ten_cumulative_return = round(MC_weight_10_table[8]*total_stocks_bonds,2)\n",
    "ci_upper_ten_cumulative_return = round(MC_weight_10_table[9]*total_stocks_bonds,2)\n",
    "\n",
    "# Print results of your calculations\n",
    "print(f\"There is a 95% chance that this portfolio will range between\"\n",
    "           f\" ${ci_lower_ten_cumulative_return} and ${ci_upper_ten_cumulative_return}.\")\n"
   ]
  },
  {
   "cell_type": "markdown",
   "metadata": {},
   "source": [
    "#### Question: Will weighting the portfolio more heavily to stocks allow the credit union members to retire after only 10 years?"
   ]
  },
  {
   "cell_type": "raw",
   "metadata": {},
   "source": [
    "**Answer** # YOUR ANSWER HERE"
   ]
  },
  {
   "cell_type": "code",
   "execution_count": null,
   "metadata": {},
   "outputs": [],
   "source": []
  }
 ],
 "metadata": {
  "kernelspec": {
   "display_name": "Python 3 (ipykernel)",
   "language": "python",
   "name": "python3"
  },
  "language_info": {
   "codemirror_mode": {
    "name": "ipython",
    "version": 3
   },
   "file_extension": ".py",
   "mimetype": "text/x-python",
   "name": "python",
   "nbconvert_exporter": "python",
   "pygments_lexer": "ipython3",
   "version": "3.9.7"
  }
 },
 "nbformat": 4,
 "nbformat_minor": 4
}
